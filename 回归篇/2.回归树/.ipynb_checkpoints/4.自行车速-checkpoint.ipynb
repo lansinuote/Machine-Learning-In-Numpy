{
 "cells": [
  {
   "cell_type": "code",
   "execution_count": 1,
   "metadata": {},
   "outputs": [
    {
     "data": {
      "text/plain": [
       "(array([[ 1.      ,  5.      , 21.944048],\n",
       "        [ 1.      ,  4.      , 22.171763],\n",
       "        [ 1.      ,  2.      , 22.440421],\n",
       "        [ 1.      ,  4.      , 22.457996],\n",
       "        [ 1.      ,  4.      , 27.728212]]),\n",
       " (400, 3))"
      ]
     },
     "execution_count": 1,
     "metadata": {},
     "output_type": "execute_result"
    }
   ],
   "source": [
    "import numpy as np\n",
    "\n",
    "\n",
    "#加载数据\n",
    "def load_data(file_name):\n",
    "    with open(file_name) as fr:\n",
    "        lines = fr.readlines()\n",
    "\n",
    "    data = np.empty((len(lines), 3), dtype=float)\n",
    "\n",
    "    for i in range(len(lines)):\n",
    "        line = lines[i].split('\\t')\n",
    "        data[i] = line\n",
    "\n",
    "    #根据y排序,主要是为了画图\n",
    "    argsort = data.argsort(axis=0)[:, 2]\n",
    "    data = data[argsort]\n",
    "\n",
    "    return data\n",
    "\n",
    "\n",
    "data = load_data('自行车速.txt')\n",
    "data[:5], data.shape"
   ]
  },
  {
   "cell_type": "code",
   "execution_count": 2,
   "metadata": {},
   "outputs": [],
   "source": [
    "#定义常量\n",
    "N = len(data)\n",
    "\n",
    "M = data.shape[1]"
   ]
  },
  {
   "cell_type": "code",
   "execution_count": 3,
   "metadata": {},
   "outputs": [
    {
     "data": {
      "image/png": "[encoded data removed]",
      "text/plain": [
       "<Figure size 432x288 with 1 Axes>"
      ]
     },
     "metadata": {
      "needs_background": "light"
     },
     "output_type": "display_data"
    }
   ],
   "source": [
    "from matplotlib import pyplot as plt\n",
    "\n",
    "\n",
    "#画图\n",
    "def draw(pred=None):\n",
    "    plt.scatter(data[:, 1], data[:, -1])\n",
    "\n",
    "    if pred is not None:\n",
    "        plt.scatter(data[:, 1], pred)\n",
    "\n",
    "\n",
    "draw()"
   ]
  },
  {
   "cell_type": "code",
   "execution_count": 4,
   "metadata": {},
   "outputs": [
    {
     "name": "stdout",
     "output_type": "stream",
     "text": [
      "Node col=0,value=1.00\n",
      "Leaf value=1.00\n"
     ]
    },
    {
     "data": {
      "text/plain": [
       "1"
      ]
     },
     "execution_count": 4,
     "metadata": {},
     "output_type": "execute_result"
    }
   ],
   "source": [
    "#创建节点和叶子对象,用来构建树\n",
    "class Node():\n",
    "    def __init__(self, col, value):\n",
    "        self.col = col\n",
    "        self.value = value\n",
    "        self.lt_node = None\n",
    "        self.gt_node = None\n",
    "\n",
    "    def __call__(self, data):\n",
    "        if data[self.col] > self.value:\n",
    "            return self.gt_node(data)\n",
    "        return self.lt_node(data)\n",
    "\n",
    "    def __str__(self):\n",
    "        return 'Node col=%d,value=%.2f' % (self.col, self.value)\n",
    "\n",
    "\n",
    "class Leaf():\n",
    "    def __init__(self, value):\n",
    "        self.value = value\n",
    "\n",
    "    def __call__(self, data):\n",
    "        return self.value\n",
    "\n",
    "    def __str__(self):\n",
    "        return 'Leaf value=%.2f' % self.value\n",
    "\n",
    "\n",
    "node = Node(0, 1)\n",
    "leaf = Leaf(1)\n",
    "\n",
    "print(node)\n",
    "print(leaf)\n",
    "\n",
    "node.lt_node = leaf\n",
    "\n",
    "node(np.array([0, 0]))"
   ]
  },
  {
   "cell_type": "code",
   "execution_count": 5,
   "metadata": {},
   "outputs": [
    {
     "data": {
      "text/plain": [
       "836434.459201954"
      ]
     },
     "execution_count": 5,
     "metadata": {},
     "output_type": "execute_result"
    }
   ],
   "source": [
    "#衡量一个数据子集y的一致性\n",
    "def get_error(data):\n",
    "    return np.var(data[:, -1]) * len(data)\n",
    "\n",
    "\n",
    "get_error(data)"
   ]
  },
  {
   "cell_type": "code",
   "execution_count": 6,
   "metadata": {},
   "outputs": [
    {
     "data": {
      "text/plain": [
       "((387, 3), (13, 3))"
      ]
     },
     "execution_count": 6,
     "metadata": {},
     "output_type": "execute_result"
    }
   ],
   "source": [
    "#切分数据\n",
    "def split_data(data, col, value):\n",
    "    data_gt = data[data[:, col] > value]\n",
    "    data_lt = data[data[:, col] <= value]\n",
    "\n",
    "    return data_gt, data_lt\n",
    "\n",
    "\n",
    "data_gt, data_lt = split_data(data, 1, 0.2)\n",
    "data_gt.shape, data_lt.shape"
   ]
  },
  {
   "cell_type": "code",
   "execution_count": 7,
   "metadata": {},
   "outputs": [
    {
     "data": {
      "text/plain": [
       "<__main__.Node at 0x7fe9258b66d8>"
      ]
     },
     "execution_count": 7,
     "metadata": {},
     "output_type": "execute_result"
    }
   ],
   "source": [
    "def get_node(data):\n",
    "    min_error = np.inf\n",
    "    min_col = 0\n",
    "    min_value = 0\n",
    "\n",
    "    #遍历所有列\n",
    "    for col in range(M - 1):\n",
    "\n",
    "        #遍历所有值\n",
    "        for value in np.unique(data[:, col]):\n",
    "\n",
    "            #切分数据\n",
    "            data_gt, data_lt = split_data(data, col, value)\n",
    "\n",
    "            #如果一个子集是空,则说明另一个一定是全集,这种切分是没有意义的\n",
    "            if len(data_gt) == 0 or len(data_lt) == 0:\n",
    "                continue\n",
    "\n",
    "            #计算切分后的loss是否下降了\n",
    "            error = get_error(data_gt) + get_error(data_lt)\n",
    "            if error < min_error:\n",
    "                min_col = col\n",
    "                min_value = value\n",
    "                min_error = error\n",
    "\n",
    "    #前剪枝\n",
    "    #切分之后loss下降要超过1才切分,这是为了避免过拟合,否则定义为叶子节点\n",
    "    #这里故意训练一个复杂的树,方便后面后剪枝\n",
    "    if get_error(data) - min_error < 1:\n",
    "        return Leaf(data[:, -1].mean())\n",
    "\n",
    "    #创建新的节点\n",
    "    node = Node(min_col, min_value)\n",
    "\n",
    "    #切分数据\n",
    "    data_gt, data_lt = split_data(data, node.col, node.value)\n",
    "\n",
    "    #前剪枝\n",
    "    #切分后的子集不能太小,这是为了避免过拟合\n",
    "    if len(data_gt) < 3 or len(data_lt) < 3:\n",
    "        return Leaf(data[:, -1].mean())\n",
    "\n",
    "    #左右节点继续递归\n",
    "    node.gt_node = get_node(data_gt)\n",
    "    node.lt_node = get_node(data_lt)\n",
    "\n",
    "    return node\n",
    "\n",
    "\n",
    "root = get_node(data)\n",
    "root"
   ]
  },
  {
   "cell_type": "code",
   "execution_count": 8,
   "metadata": {
    "scrolled": false
   },
   "outputs": [
    {
     "name": "stdout",
     "output_type": "stream",
     "text": [
      "---- Node col=1,value=10.00\n",
      "-------- Node col=1,value=17.00\n",
      "------------ Node col=1,value=19.00\n",
      "---------------- Node col=1,value=21.00\n",
      "-------------------- Node col=1,value=22.00\n",
      "------------------------ Leaf value=171.88\n",
      "------------------------ Leaf value=168.67\n",
      "-------------------- Node col=1,value=20.00\n",
      "------------------------ Leaf value=162.10\n",
      "------------------------ Leaf value=163.85\n",
      "---------------- Node col=1,value=18.00\n",
      "-------------------- Leaf value=154.02\n",
      "-------------------- Leaf value=151.35\n",
      "------------ Node col=1,value=13.00\n",
      "---------------- Node col=1,value=15.00\n",
      "-------------------- Node col=1,value=16.00\n",
      "------------------------ Leaf value=144.60\n",
      "------------------------ Leaf value=141.99\n",
      "-------------------- Node col=1,value=14.00\n",
      "------------------------ Leaf value=136.11\n",
      "------------------------ Leaf value=135.21\n",
      "---------------- Node col=1,value=12.00\n",
      "-------------------- Leaf value=127.37\n",
      "-------------------- Node col=1,value=11.00\n",
      "------------------------ Leaf value=117.77\n",
      "------------------------ Leaf value=113.34\n",
      "-------- Node col=1,value=6.00\n",
      "------------ Node col=1,value=7.00\n",
      "---------------- Node col=1,value=8.00\n",
      "-------------------- Node col=1,value=9.00\n",
      "------------------------ Leaf value=99.94\n",
      "------------------------ Leaf value=97.89\n",
      "-------------------- Leaf value=87.72\n",
      "---------------- Leaf value=73.28\n",
      "------------ Node col=1,value=0.00\n",
      "---------------- Node col=1,value=5.00\n",
      "-------------------- Leaf value=63.87\n",
      "-------------------- Node col=1,value=4.00\n",
      "------------------------ Leaf value=48.10\n",
      "------------------------ Node col=1,value=1.00\n",
      "---------------------------- Node col=1,value=3.00\n",
      "-------------------------------- Leaf value=34.23\n",
      "-------------------------------- Node col=1,value=2.00\n",
      "------------------------------------ Leaf value=38.08\n",
      "------------------------------------ Leaf value=39.65\n",
      "---------------------------- Leaf value=46.75\n",
      "---------------- Leaf value=79.76\n"
     ]
    }
   ],
   "source": [
    "#打印树的方法\n",
    "def print_tree(node, prefix=''):\n",
    "    prefix += '-' * 4\n",
    "    print(prefix, node)\n",
    "    if isinstance(node, Leaf):\n",
    "        return\n",
    "    print_tree(node.gt_node, prefix)\n",
    "    print_tree(node.lt_node, prefix)\n",
    "\n",
    "\n",
    "print_tree(root)"
   ]
  },
  {
   "cell_type": "code",
   "execution_count": 9,
   "metadata": {},
   "outputs": [
    {
     "data": {
      "image/png": "[encoded data removed]",
      "text/plain": [
       "<Figure size 432x288 with 1 Axes>"
      ]
     },
     "metadata": {
      "needs_background": "light"
     },
     "output_type": "display_data"
    }
   ],
   "source": [
    "#预测\n",
    "pred = np.empty(N)\n",
    "for i in range(N):\n",
    "    pred[i] = root(data[i])\n",
    "\n",
    "draw(pred)"
   ]
  }
 ],
 "metadata": {
  "kernelspec": {
   "display_name": "Python 3",
   "language": "python",
   "name": "python3"
  },
  "language_info": {
   "codemirror_mode": {
    "name": "ipython",
    "version": 3
   },
   "file_extension": ".py",
   "mimetype": "text/x-python",
   "name": "python",
   "nbconvert_exporter": "python",
   "pygments_lexer": "ipython3",
   "version": "3.6.10"
  }
 },
 "nbformat": 4,
 "nbformat_minor": 4
}
