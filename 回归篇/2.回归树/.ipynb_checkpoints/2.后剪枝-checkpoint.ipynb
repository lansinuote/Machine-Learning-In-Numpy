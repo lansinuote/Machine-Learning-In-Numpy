{
 "cells": [
  {
   "cell_type": "code",
   "execution_count": 1,
   "metadata": {},
   "outputs": [
    {
     "data": {
      "text/plain": [
       "(array([[ 1.      ,  0.018883, -0.300577],\n",
       "        [ 1.      ,  0.012003, -0.217283],\n",
       "        [ 1.      ,  0.134128, -0.195046],\n",
       "        [ 1.      ,  0.016241, -0.063215],\n",
       "        [ 1.      ,  0.126804,  0.001238]]),\n",
       " (50, 3))"
      ]
     },
     "execution_count": 1,
     "metadata": {},
     "output_type": "execute_result"
    }
   ],
   "source": [
    "import numpy as np\n",
    "\n",
    "\n",
    "#加载数据\n",
    "def load_data(file_name):\n",
    "    with open(file_name) as fr:\n",
    "        lines = fr.readlines()\n",
    "\n",
    "    data = np.empty((len(lines), 3), dtype=float)\n",
    "\n",
    "    for i in range(len(lines)):\n",
    "        line = lines[i].split('\\t')\n",
    "        data[i] = line\n",
    "\n",
    "    #根据y排序,主要是为了画图\n",
    "    argsort = data.argsort(axis=0)[:, 2]\n",
    "    data = data[argsort]\n",
    "\n",
    "    return data\n",
    "\n",
    "\n",
    "#剪枝的时候不能用训练数据\n",
    "data = load_data('简单数据_剪枝.txt')\n",
    "data[:5], data.shape"
   ]
  },
  {
   "cell_type": "code",
   "execution_count": 2,
   "metadata": {},
   "outputs": [],
   "source": [
    "#定义常量\n",
    "N,M = data.shape"
   ]
  },
  {
   "cell_type": "code",
   "execution_count": 3,
   "metadata": {},
   "outputs": [
    {
     "data": {
      "image/png": "[encoded data removed]",
      "text/plain": [
       "<Figure size 432x288 with 1 Axes>"
      ]
     },
     "metadata": {
      "needs_background": "light"
     },
     "output_type": "display_data"
    }
   ],
   "source": [
    "from matplotlib import pyplot as plt\n",
    "\n",
    "\n",
    "#画图\n",
    "def draw(pred=None):\n",
    "    plt.scatter(data[:, 1], data[:, -1])\n",
    "\n",
    "    if pred is not None:\n",
    "        plt.scatter(data[:, 1], pred)\n",
    "\n",
    "\n",
    "draw()"
   ]
  },
  {
   "cell_type": "code",
   "execution_count": 4,
   "metadata": {},
   "outputs": [
    {
     "name": "stdout",
     "output_type": "stream",
     "text": [
      "Node col=0,value=1.00\n",
      "Leaf value=1.00\n"
     ]
    },
    {
     "data": {
      "text/plain": [
       "1"
      ]
     },
     "execution_count": 4,
     "metadata": {},
     "output_type": "execute_result"
    }
   ],
   "source": [
    "#创建节点和叶子对象,用来构建树\n",
    "class Node():\n",
    "    def __init__(self, col, value):\n",
    "        self.col = col\n",
    "        self.value = value\n",
    "        self.lt_node = None\n",
    "        self.gt_node = None\n",
    "\n",
    "    def __call__(self, data):\n",
    "        if data[self.col] > self.value:\n",
    "            return self.gt_node(data)\n",
    "        return self.lt_node(data)\n",
    "\n",
    "    def __str__(self):\n",
    "        return 'Node col=%d,value=%.2f' % (self.col, self.value)\n",
    "\n",
    "\n",
    "class Leaf():\n",
    "    def __init__(self, value):\n",
    "        self.value = value\n",
    "\n",
    "    def __call__(self, data):\n",
    "        return self.value\n",
    "\n",
    "    def __str__(self):\n",
    "        return 'Leaf value=%.2f' % self.value\n",
    "\n",
    "\n",
    "node = Node(0, 1)\n",
    "leaf = Leaf(1)\n",
    "\n",
    "print(node)\n",
    "print(leaf)\n",
    "\n",
    "node.lt_node = leaf\n",
    "\n",
    "node(np.array([0, 0]))"
   ]
  },
  {
   "cell_type": "code",
   "execution_count": 5,
   "metadata": {
    "scrolled": true
   },
   "outputs": [
    {
     "data": {
      "text/plain": [
       "<__main__.Node at 0x7f185db8b780>"
      ]
     },
     "execution_count": 5,
     "metadata": {},
     "output_type": "execute_result"
    }
   ],
   "source": [
    "import pickle\n",
    "\n",
    "#反序列化树\n",
    "s = b'\\x80\\x03c__main__\\nNode\\nq\\x00)\\x81q\\x01}q\\x02(X\\x03\\x00\\x00\\x00colq\\x03K\\x01X\\x05\\x00\\x00\\x00valueq\\x04cnumpy.core.multiarray\\nscalar\\nq\\x05cnumpy\\ndtype\\nq\\x06X\\x02\\x00\\x00\\x00f8q\\x07\\x89\\x88\\x87q\\x08Rq\\t(K\\x03X\\x01\\x00\\x00\\x00<q\\nNNNJ\\xff\\xff\\xff\\xffJ\\xff\\xff\\xff\\xffK\\x00tq\\x0bbC\\x08\\xcc]K\\xc8\\x07=\\xd9?q\\x0c\\x86q\\rRq\\x0eX\\x07\\x00\\x00\\x00lt_nodeq\\x0fh\\x00)\\x81q\\x10}q\\x11(h\\x03K\\x01h\\x04h\\x05h\\tC\\x08\\xf6\\xb7\\x04\\xe0\\x9fR\\xc9?q\\x12\\x86q\\x13Rq\\x14h\\x0fh\\x00)\\x81q\\x15}q\\x16(h\\x03K\\x01h\\x04h\\x05h\\tC\\x08\\xee\\xb45\"\\x18\\x07\\xc3?q\\x17\\x86q\\x18Rq\\x19h\\x0fc__main__\\nLeaf\\nq\\x1a)\\x81q\\x1b}q\\x1ch\\x04h\\x05h\\tC\\x08\\xb3\\xc3#\\xa265\\xa9\\xbfq\\x1d\\x86q\\x1eRq\\x1fsbX\\x07\\x00\\x00\\x00gt_nodeq h\\x1a)\\x81q!}q\"h\\x04h\\x05h\\tC\\x08\\xe7;9\\xc5\\xe7\\x8f\\xab?q#\\x86q$Rq%sbubh h\\x00)\\x81q&}q\\'(h\\x03K\\x01h\\x04h\\x05h\\tC\\x08\\xf8\\xdfJvl\\x04\\xd8?q(\\x86q)Rq*h\\x0fh\\x00)\\x81q+}q,(h\\x03K\\x01h\\x04h\\x05h\\tC\\x08p\\x08Uj\\xf6@\\xd4?q-\\x86q.Rq/h\\x0fh\\x00)\\x81q0}q1(h\\x03K\\x01h\\x04h\\x05h\\tC\\x08\\xef8EGr\\xf9\\xcd?q2\\x86q3Rq4h\\x0fh\\x1a)\\x81q5}q6h\\x04h\\x05h\\tC\\x08sB\\xfbk\\x8c0\\xea?q7\\x86q8Rq9sbh h\\x1a)\\x81q:}q;h\\x04h\\x05h\\tC\\x08H\\xac\\x06\\xe3\\xe4\\x7f\\xf1?q<\\x86q=Rq>sbubh h\\x00)\\x81q?}q@(h\\x03K\\x01h\\x04h\\x05h\\tC\\x08\\xc6\\x18X\\xc7\\xf1C\\xd7?qA\\x86qBRqCh\\x0fh\\x1a)\\x81qD}qEh\\x04h\\x05h\\tC\\x08@J\\xec\\xda\\xde\\x0e\\xe8?qF\\x86qGRqHsbh h\\x1a)\\x81qI}qJh\\x04h\\x05h\\tC\\x08\\x8c\\x82\\xe0\\xf1\\xed]\\xef?qK\\x86qLRqMsbububh h\\x1a)\\x81qN}qOh\\x04h\\x05h\\tC\\x08\\xed\\t\\x12\\xdb\\xddC\\xf3?qP\\x86qQRqRsbububh h\\x00)\\x81qS}qT(h\\x03K\\x01h\\x04h\\x05h\\tC\\x08\\xb3\\x97m\\xa7\\xad\\x91\\xe2?qU\\x86qVRqWh\\x0fh\\x00)\\x81qX}qY(h\\x03K\\x01h\\x04h\\x05h\\tC\\x08|\\xf1E{\\xbc\\x90\\xdf?qZ\\x86q[Rq\\\\h\\x0fh\\x1a)\\x81q]}q^h\\x04h\\x05h\\tC\\x08\\xa3\\x0bX\\xe0\\x99~\\xfe?q_\\x86q`Rqasbh h\\x00)\\x81qb}qc(h\\x03K\\x01h\\x04h\\x05h\\tC\\x08\\xdd\\\\\\xfcmO\\x10\\xe1?qd\\x86qeRqfh\\x0fh\\x00)\\x81qg}qh(h\\x03K\\x01h\\x04h\\x05h\\tC\\x08<\\xa5\\x83\\xf5\\x7f\\x8e\\xe0?qi\\x86qjRqkh\\x0fh\\x1a)\\x81ql}qmh\\x04h\\x05h\\tC\\x08\\xfb\\xfa\\x9f\\xbf\\x8fH\\x01@qn\\x86qoRqpsbh h\\x1a)\\x81qq}qrh\\x04h\\x05h\\tC\\x08\\x8c\\xbc\\xac\\x89\\x05~\\x00@qs\\x86qtRqusbubh h\\x1a)\\x81qv}qwh\\x04h\\x05h\\tC\\x08y(\\xf7(I\\x84\\xfe?qx\\x86qyRqzsbububh h\\x00)\\x81q{}q|(h\\x03K\\x01h\\x04h\\x05h\\tC\\x08\\xe5\\x0e\\x9b\\xc8\\xcc\\x85\\xe9?q}\\x86q~Rq\\x7fh\\x0fh\\x00)\\x81q\\x80}q\\x81(h\\x03K\\x01h\\x04h\\x05h\\tC\\x08\\xc0Z\\xb5kB\\xda\\xe3?q\\x82\\x86q\\x83Rq\\x84h\\x0fh\\x1a)\\x81q\\x85}q\\x86h\\x04h\\x05h\\tC\\x08\\x7ff\\x10\\x1f\\xd8\\xe9\\x08@q\\x87\\x86q\\x88Rq\\x89sbh h\\x1a)\\x81q\\x8a}q\\x8bh\\x04h\\x05h\\tC\\x08\\xee\\xe1\\xc9\\x08\\x0c\\xef\\x07@q\\x8c\\x86q\\x8dRq\\x8esbubh h\\x00)\\x81q\\x8f}q\\x90(h\\x03K\\x01h\\x04h\\x05h\\tC\\x08\\xd1[<\\xbc\\xe7\\xc0\\xeb?q\\x91\\x86q\\x92Rq\\x93h\\x0fh\\x1a)\\x81q\\x94}q\\x95h\\x04h\\x05h\\tC\\x08\\xf4\\x84%\\x1eP\\x0e\\x0f@q\\x96\\x86q\\x97Rq\\x98sbh h\\x1a)\\x81q\\x99}q\\x9ah\\x04h\\x05h\\tC\\x08a\\r\\x8e\\xfc\\xa2\\x07\\x10@q\\x9b\\x86q\\x9cRq\\x9dsbubububub.'\n",
    "root = pickle.loads(s)\n",
    "root"
   ]
  },
  {
   "cell_type": "code",
   "execution_count": 6,
   "metadata": {
    "scrolled": false
   },
   "outputs": [
    {
     "name": "stdout",
     "output_type": "stream",
     "text": [
      "---- Node col=1,value=0.39\n",
      "-------- Node col=1,value=0.58\n",
      "------------ Node col=1,value=0.80\n",
      "---------------- Node col=1,value=0.87\n",
      "-------------------- Leaf value=4.01\n",
      "-------------------- Leaf value=3.88\n",
      "---------------- Node col=1,value=0.62\n",
      "-------------------- Leaf value=2.99\n",
      "-------------------- Leaf value=3.11\n",
      "------------ Node col=1,value=0.49\n",
      "---------------- Node col=1,value=0.53\n",
      "-------------------- Leaf value=1.91\n",
      "-------------------- Node col=1,value=0.52\n",
      "------------------------ Leaf value=2.06\n",
      "------------------------ Leaf value=2.16\n",
      "---------------- Leaf value=1.91\n",
      "-------- Node col=1,value=0.20\n",
      "------------ Node col=1,value=0.38\n",
      "---------------- Leaf value=1.20\n",
      "---------------- Node col=1,value=0.32\n",
      "-------------------- Node col=1,value=0.36\n",
      "------------------------ Leaf value=0.98\n",
      "------------------------ Leaf value=0.75\n",
      "-------------------- Node col=1,value=0.23\n",
      "------------------------ Leaf value=1.09\n",
      "------------------------ Leaf value=0.82\n",
      "------------ Node col=1,value=0.15\n",
      "---------------- Leaf value=0.05\n",
      "---------------- Leaf value=-0.05\n"
     ]
    }
   ],
   "source": [
    "#打印树的方法\n",
    "def print_tree(node, prefix=''):\n",
    "    prefix += '-' * 4\n",
    "    print(prefix, node)\n",
    "    if isinstance(node, Leaf):\n",
    "        return\n",
    "    print_tree(node.gt_node, prefix)\n",
    "    print_tree(node.lt_node, prefix)\n",
    "\n",
    "\n",
    "print_tree(root)"
   ]
  },
  {
   "cell_type": "code",
   "execution_count": 7,
   "metadata": {},
   "outputs": [
    {
     "data": {
      "text/plain": [
       "((39, 3), (11, 3))"
      ]
     },
     "execution_count": 7,
     "metadata": {},
     "output_type": "execute_result"
    }
   ],
   "source": [
    "#切分数据\n",
    "def split_data(data, col, value):\n",
    "    data_gt = data[data[:, col] > value]\n",
    "    data_lt = data[data[:, col] <= value]\n",
    "\n",
    "    return data_gt, data_lt\n",
    "\n",
    "\n",
    "data_gt, data_lt = split_data(data, 1, 0.2)\n",
    "data_gt.shape, data_lt.shape"
   ]
  },
  {
   "cell_type": "code",
   "execution_count": 8,
   "metadata": {},
   "outputs": [
    {
     "data": {
      "image/png": "[encoded data removed]",
      "text/plain": [
       "<Figure size 432x288 with 1 Axes>"
      ]
     },
     "metadata": {
      "needs_background": "light"
     },
     "output_type": "display_data"
    }
   ],
   "source": [
    "#预测\n",
    "pred = np.empty(N)\n",
    "for i in range(N):\n",
    "    pred[i] = root(data[i])\n",
    "\n",
    "draw(pred)"
   ]
  },
  {
   "cell_type": "code",
   "execution_count": 9,
   "metadata": {},
   "outputs": [
    {
     "data": {
      "text/plain": [
       "4.8179390484424856"
      ]
     },
     "execution_count": 9,
     "metadata": {},
     "output_type": "execute_result"
    }
   ],
   "source": [
    "#计算树节点的loss,也就是误差平方和\n",
    "def get_loss(node, data):\n",
    "    _sum = 0\n",
    "    for di in data:\n",
    "        _sum += np.power(node(di) - di[-1], 2)\n",
    "    return _sum\n",
    "\n",
    "\n",
    "get_loss(root, data)"
   ]
  },
  {
   "cell_type": "code",
   "execution_count": 10,
   "metadata": {},
   "outputs": [],
   "source": [
    "#剪切节点\n",
    "def cut_node(node, data):\n",
    "    print_tree(node)\n",
    "    print('===========================================================')\n",
    "\n",
    "    #叶子节点不存在剪枝\n",
    "    if isinstance(node, Leaf):\n",
    "        return node\n",
    "\n",
    "    #只有两边都是叶子的节点才能剪枝\n",
    "    if isinstance(node.gt_node, Node) or isinstance(node.lt_node, Node):\n",
    "        return node\n",
    "\n",
    "    #求两边值的均值,定义为新的leaf\n",
    "    mean_value = (node.gt_node.value + node.lt_node.value) / 2\n",
    "    cut_leaf = Leaf(mean_value)\n",
    "\n",
    "    #计算loss\n",
    "    cut_loss = get_loss(cut_leaf, data)\n",
    "\n",
    "    #计算剪枝前的loss\n",
    "    data_gt, data_lt = split_data(data, node.col, node.value)\n",
    "    gt_loss = get_loss(node.gt_node, data_gt)\n",
    "    lt_loss = get_loss(node.lt_node, data_lt)\n",
    "\n",
    "    print('cut=', cut_loss < gt_loss + lt_loss)\n",
    "\n",
    "    #如果剪枝后loss下降了,则剪枝,否则保持原样\n",
    "    if cut_loss < gt_loss + lt_loss:\n",
    "        return cut_leaf\n",
    "    return node"
   ]
  },
  {
   "cell_type": "code",
   "execution_count": 11,
   "metadata": {
    "scrolled": false
   },
   "outputs": [
    {
     "name": "stdout",
     "output_type": "stream",
     "text": [
      "---- Node col=1,value=0.87\n",
      "-------- Leaf value=4.01\n",
      "-------- Leaf value=3.88\n",
      "===========================================================\n",
      "cut= True\n",
      "---- Node col=1,value=0.62\n",
      "-------- Leaf value=2.99\n",
      "-------- Leaf value=3.11\n",
      "===========================================================\n",
      "cut= True\n",
      "---- Node col=1,value=0.80\n",
      "-------- Leaf value=3.94\n",
      "-------- Leaf value=3.05\n",
      "===========================================================\n",
      "cut= False\n",
      "---- Node col=1,value=0.52\n",
      "-------- Leaf value=2.06\n",
      "-------- Leaf value=2.16\n",
      "===========================================================\n",
      "cut= True\n",
      "---- Node col=1,value=0.53\n",
      "-------- Leaf value=1.91\n",
      "-------- Leaf value=2.11\n",
      "===========================================================\n",
      "cut= True\n",
      "---- Node col=1,value=0.49\n",
      "-------- Leaf value=2.01\n",
      "-------- Leaf value=1.91\n",
      "===========================================================\n",
      "cut= False\n",
      "---- Node col=1,value=0.58\n",
      "-------- Node col=1,value=0.80\n",
      "------------ Leaf value=3.94\n",
      "------------ Leaf value=3.05\n",
      "-------- Node col=1,value=0.49\n",
      "------------ Leaf value=2.01\n",
      "------------ Leaf value=1.91\n",
      "===========================================================\n",
      "---- Node col=1,value=0.36\n",
      "-------- Leaf value=0.98\n",
      "-------- Leaf value=0.75\n",
      "===========================================================\n",
      "cut= True\n",
      "---- Node col=1,value=0.23\n",
      "-------- Leaf value=1.09\n",
      "-------- Leaf value=0.82\n",
      "===========================================================\n",
      "cut= True\n",
      "---- Node col=1,value=0.32\n",
      "-------- Leaf value=0.87\n",
      "-------- Leaf value=0.96\n",
      "===========================================================\n",
      "cut= False\n",
      "---- Node col=1,value=0.38\n",
      "-------- Leaf value=1.20\n",
      "-------- Node col=1,value=0.32\n",
      "------------ Leaf value=0.87\n",
      "------------ Leaf value=0.96\n",
      "===========================================================\n",
      "---- Node col=1,value=0.15\n",
      "-------- Leaf value=0.05\n",
      "-------- Leaf value=-0.05\n",
      "===========================================================\n",
      "cut= False\n",
      "---- Node col=1,value=0.20\n",
      "-------- Node col=1,value=0.38\n",
      "------------ Leaf value=1.20\n",
      "------------ Node col=1,value=0.32\n",
      "---------------- Leaf value=0.87\n",
      "---------------- Leaf value=0.96\n",
      "-------- Node col=1,value=0.15\n",
      "------------ Leaf value=0.05\n",
      "------------ Leaf value=-0.05\n",
      "===========================================================\n"
     ]
    }
   ],
   "source": [
    "#后剪枝算法\n",
    "def cur_tree(node, data):\n",
    "\n",
    "    #如果已经是个叶子节点了,就不存在剪枝\n",
    "    if isinstance(node, Leaf):\n",
    "        return\n",
    "\n",
    "    #切分数据集\n",
    "    data_gt, data_lt = split_data(data, node.col, node.value)\n",
    "\n",
    "    #如果是个节点,则先向下遍历寻找子节点,子节点都切完之后再尝试切自己\n",
    "    if isinstance(node.gt_node, Node):\n",
    "        cur_tree(node.gt_node, data_gt)\n",
    "        node.gt_node = cut_node(node.gt_node, data_gt)\n",
    "\n",
    "    if isinstance(node.lt_node, Node):\n",
    "        cur_tree(node.lt_node, data_lt)\n",
    "        node.lt_node = cut_node(node.lt_node, data_lt)\n",
    "\n",
    "\n",
    "cur_tree(root, data)"
   ]
  },
  {
   "cell_type": "code",
   "execution_count": 12,
   "metadata": {},
   "outputs": [
    {
     "name": "stdout",
     "output_type": "stream",
     "text": [
      "---- Node col=1,value=0.39\n",
      "-------- Node col=1,value=0.58\n",
      "------------ Node col=1,value=0.80\n",
      "---------------- Leaf value=3.94\n",
      "---------------- Leaf value=3.05\n",
      "------------ Node col=1,value=0.49\n",
      "---------------- Leaf value=2.01\n",
      "---------------- Leaf value=1.91\n",
      "-------- Node col=1,value=0.20\n",
      "------------ Node col=1,value=0.38\n",
      "---------------- Leaf value=1.20\n",
      "---------------- Node col=1,value=0.32\n",
      "-------------------- Leaf value=0.87\n",
      "-------------------- Leaf value=0.96\n",
      "------------ Node col=1,value=0.15\n",
      "---------------- Leaf value=0.05\n",
      "---------------- Leaf value=-0.05\n"
     ]
    }
   ],
   "source": [
    "print_tree(root)"
   ]
  },
  {
   "cell_type": "code",
   "execution_count": 13,
   "metadata": {},
   "outputs": [
    {
     "data": {
      "image/png": "[encoded data removed]",
      "text/plain": [
       "<Figure size 432x288 with 1 Axes>"
      ]
     },
     "metadata": {
      "needs_background": "light"
     },
     "output_type": "display_data"
    }
   ],
   "source": [
    "#预测\n",
    "pred = np.empty(N)\n",
    "for i in range(N):\n",
    "    pred[i] = root(data[i])\n",
    "\n",
    "draw(pred)"
   ]
  }
 ],
 "metadata": {
  "kernelspec": {
   "display_name": "Python 3",
   "language": "python",
   "name": "python3"
  },
  "language_info": {
   "codemirror_mode": {
    "name": "ipython",
    "version": 3
   },
   "file_extension": ".py",
   "mimetype": "text/x-python",
   "name": "python",
   "nbconvert_exporter": "python",
   "pygments_lexer": "ipython3",
   "version": "3.6.10"
  }
 },
 "nbformat": 4,
 "nbformat_minor": 4
}
