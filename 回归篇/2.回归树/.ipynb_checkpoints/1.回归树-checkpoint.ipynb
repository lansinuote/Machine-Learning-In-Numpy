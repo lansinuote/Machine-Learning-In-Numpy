{
 "cells": [
  {
   "cell_type": "code",
   "execution_count": 1,
   "metadata": {},
   "outputs": [
    {
     "data": {
      "text/plain": [
       "(array([[ 1.      ,  0.044136, -0.537706],\n",
       "        [ 1.      ,  0.131337, -0.339109],\n",
       "        [ 1.      ,  0.148654, -0.328513],\n",
       "        [ 1.      ,  0.094491, -0.240963],\n",
       "        [ 1.      ,  0.14864 , -0.22733 ]]),\n",
       " (150, 3))"
      ]
     },
     "execution_count": 1,
     "metadata": {},
     "output_type": "execute_result"
    }
   ],
   "source": [
    "import numpy as np\n",
    "\n",
    "\n",
    "#加载数据\n",
    "def load_data(file_name):\n",
    "    with open(file_name) as fr:\n",
    "        lines = fr.readlines()\n",
    "\n",
    "    data = np.empty((len(lines), 3), dtype=float)\n",
    "\n",
    "    for i in range(len(lines)):\n",
    "        line = lines[i].split('\\t')\n",
    "        data[i] = line\n",
    "\n",
    "    #根据y排序,主要是为了画图\n",
    "    argsort = data.argsort(axis=0)[:, 2]\n",
    "    data = data[argsort]\n",
    "\n",
    "    return data\n",
    "\n",
    "\n",
    "data = load_data('简单数据_训练.txt')\n",
    "data[:5], data.shape"
   ]
  },
  {
   "cell_type": "code",
   "execution_count": 2,
   "metadata": {},
   "outputs": [],
   "source": [
    "#定义常量\n",
    "N, M = data.shape"
   ]
  },
  {
   "cell_type": "code",
   "execution_count": 3,
   "metadata": {},
   "outputs": [
    {
     "data": {
      "image/png": "[encoded data removed]",
      "text/plain": [
       "<Figure size 432x288 with 1 Axes>"
      ]
     },
     "metadata": {
      "needs_background": "light"
     },
     "output_type": "display_data"
    }
   ],
   "source": [
    "from matplotlib import pyplot as plt\n",
    "\n",
    "\n",
    "#画图\n",
    "def draw(pred=None):\n",
    "    plt.scatter(data[:, 1], data[:, -1])\n",
    "\n",
    "    if pred is not None:\n",
    "        plt.scatter(data[:, 1], pred)\n",
    "\n",
    "\n",
    "draw()"
   ]
  },
  {
   "cell_type": "code",
   "execution_count": 4,
   "metadata": {},
   "outputs": [
    {
     "name": "stdout",
     "output_type": "stream",
     "text": [
      "Node col=0,value=1.00\n",
      "Leaf value=1.00\n"
     ]
    },
    {
     "data": {
      "text/plain": [
       "1"
      ]
     },
     "execution_count": 4,
     "metadata": {},
     "output_type": "execute_result"
    }
   ],
   "source": [
    "#创建节点和叶子对象,用来构建树\n",
    "class Node():\n",
    "    def __init__(self, col, value):\n",
    "        self.col = col\n",
    "        self.value = value\n",
    "        self.lt_node = None\n",
    "        self.gt_node = None\n",
    "\n",
    "    def __call__(self, data):\n",
    "        if data[self.col] > self.value:\n",
    "            return self.gt_node(data)\n",
    "        return self.lt_node(data)\n",
    "\n",
    "    def __str__(self):\n",
    "        return 'Node col=%d,value=%.2f' % (self.col, self.value)\n",
    "\n",
    "\n",
    "class Leaf():\n",
    "    def __init__(self, value):\n",
    "        self.value = value\n",
    "\n",
    "    def __call__(self, data):\n",
    "        return self.value\n",
    "\n",
    "    def __str__(self):\n",
    "        return 'Leaf value=%.2f' % self.value\n",
    "\n",
    "\n",
    "node = Node(0, 1)\n",
    "leaf = Leaf(1)\n",
    "print(node)\n",
    "print(leaf)\n",
    "\n",
    "node.lt_node = leaf\n",
    "node(np.array([0, 0]))"
   ]
  },
  {
   "cell_type": "code",
   "execution_count": 5,
   "metadata": {},
   "outputs": [
    {
     "data": {
      "text/plain": [
       "317.45354816255235"
      ]
     },
     "execution_count": 5,
     "metadata": {},
     "output_type": "execute_result"
    }
   ],
   "source": [
    "#衡量一个数据子集y的一致性\n",
    "def get_error(data):\n",
    "    return np.var(data[:, -1]) * len(data)\n",
    "\n",
    "\n",
    "get_error(data)"
   ]
  },
  {
   "cell_type": "code",
   "execution_count": 6,
   "metadata": {},
   "outputs": [
    {
     "data": {
      "text/plain": [
       "((116, 3), (34, 3))"
      ]
     },
     "execution_count": 6,
     "metadata": {},
     "output_type": "execute_result"
    }
   ],
   "source": [
    "#切分数据\n",
    "def split_data(data, col, value):\n",
    "    data_gt = data[data[:, col] > value]\n",
    "    data_lt = data[data[:, col] <= value]\n",
    "\n",
    "    return data_gt, data_lt\n",
    "\n",
    "\n",
    "data_gt, data_lt = split_data(data, 1, 0.2)\n",
    "data_gt.shape, data_lt.shape"
   ]
  },
  {
   "cell_type": "code",
   "execution_count": 7,
   "metadata": {},
   "outputs": [
    {
     "data": {
      "text/plain": [
       "(80.42881008701248, 1, 0.39435)"
      ]
     },
     "execution_count": 7,
     "metadata": {},
     "output_type": "execute_result"
    }
   ],
   "source": [
    "def get_split_col_value(data):\n",
    "    min_error = np.inf\n",
    "    min_col = 0\n",
    "    min_value = 0\n",
    "\n",
    "    #遍历所有列\n",
    "    for col in range(M - 1):\n",
    "\n",
    "        #遍历所有值\n",
    "        for value in np.unique(data[:, col]):\n",
    "\n",
    "            #切分数据\n",
    "            data_gt, data_lt = split_data(data, col, value)\n",
    "\n",
    "            #如果一个子集是空,则说明另一个一定是全集,这种切分是没有意义的\n",
    "            if len(data_gt) == 0 or len(data_lt) == 0:\n",
    "                continue\n",
    "\n",
    "            #计算切分后的loss是否下降了\n",
    "            error = get_error(data_gt) + get_error(data_lt)\n",
    "            if error < min_error:\n",
    "                min_col = col\n",
    "                min_value = value\n",
    "                min_error = error\n",
    "\n",
    "    return min_error, min_col, min_value\n",
    "\n",
    "\n",
    "get_split_col_value(data)"
   ]
  },
  {
   "cell_type": "code",
   "execution_count": 8,
   "metadata": {},
   "outputs": [
    {
     "data": {
      "text/plain": [
       "<__main__.Node at 0x7f66480ca128>"
      ]
     },
     "execution_count": 8,
     "metadata": {},
     "output_type": "execute_result"
    }
   ],
   "source": [
    "def get_node(data):\n",
    "\n",
    "    min_error, min_col, min_value = get_split_col_value(data)\n",
    "\n",
    "    #前剪枝\n",
    "    #切分之后loss下降要超过1才切分,这是为了避免过拟合,否则定义为叶子节点\n",
    "    #这里故意训练一个复杂的树,方便后面后剪枝\n",
    "    if get_error(data) - min_error < 1:\n",
    "        return Leaf(data[:, -1].mean())\n",
    "\n",
    "    #创建新的节点\n",
    "    node = Node(min_col, min_value)\n",
    "\n",
    "    #切分数据\n",
    "    data_gt, data_lt = split_data(data, node.col, node.value)\n",
    "\n",
    "    #前剪枝\n",
    "    #切分后的子集不能太小,这是为了避免过拟合\n",
    "    if len(data_gt) < 3 or len(data_lt) < 3:\n",
    "        return Leaf(data[:, -1].mean())\n",
    "\n",
    "    #左右节点继续递归\n",
    "    node.gt_node = get_node(data_gt)\n",
    "    node.lt_node = get_node(data_lt)\n",
    "\n",
    "    return node\n",
    "\n",
    "\n",
    "root = get_node(data)\n",
    "root"
   ]
  },
  {
   "cell_type": "code",
   "execution_count": 9,
   "metadata": {
    "scrolled": false
   },
   "outputs": [
    {
     "name": "stdout",
     "output_type": "stream",
     "text": [
      "---- Node col=1,value=0.39\n",
      "-------- Node col=1,value=0.58\n",
      "------------ Node col=1,value=0.80\n",
      "---------------- Leaf value=3.97\n",
      "---------------- Leaf value=3.01\n",
      "------------ Leaf value=1.98\n",
      "-------- Node col=1,value=0.20\n",
      "------------ Leaf value=0.98\n",
      "------------ Leaf value=-0.03\n"
     ]
    }
   ],
   "source": [
    "#打印树的方法\n",
    "def print_tree(node, prefix=''):\n",
    "    prefix += '-' * 4\n",
    "    print(prefix, node)\n",
    "    if isinstance(node, Leaf):\n",
    "        return\n",
    "    print_tree(node.gt_node, prefix)\n",
    "    print_tree(node.lt_node, prefix)\n",
    "\n",
    "\n",
    "print_tree(root)"
   ]
  },
  {
   "cell_type": "code",
   "execution_count": 10,
   "metadata": {},
   "outputs": [
    {
     "data": {
      "image/png": "[encoded data removed]",
      "text/plain": [
       "<Figure size 432x288 with 1 Axes>"
      ]
     },
     "metadata": {
      "needs_background": "light"
     },
     "output_type": "display_data"
    }
   ],
   "source": [
    "#预测\n",
    "pred = np.empty(N)\n",
    "for i in range(N):\n",
    "    pred[i] = root(data[i])\n",
    "\n",
    "draw(pred)"
   ]
  },
  {
   "cell_type": "code",
   "execution_count": 11,
   "metadata": {},
   "outputs": [
    {
     "name": "stdout",
     "output_type": "stream",
     "text": [
      "b'\\x80\\x03c__main__\\nNode\\nq\\x00)\\x81q\\x01}q\\x02(X\\x03\\x00\\x00\\x00colq\\x03K\\x01X\\x05\\x00\\x00\\x00valueq\\x04cnumpy.core.multiarray\\nscalar\\nq\\x05cnumpy\\ndtype\\nq\\x06X\\x02\\x00\\x00\\x00f8q\\x07\\x89\\x88\\x87q\\x08Rq\\t(K\\x03X\\x01\\x00\\x00\\x00<q\\nNNNJ\\xff\\xff\\xff\\xffJ\\xff\\xff\\xff\\xffK\\x00tq\\x0bbC\\x08\\xcc]K\\xc8\\x07=\\xd9?q\\x0c\\x86q\\rRq\\x0eX\\x07\\x00\\x00\\x00lt_nodeq\\x0fh\\x00)\\x81q\\x10}q\\x11(h\\x03K\\x01h\\x04h\\x05h\\tC\\x08\\xf6\\xb7\\x04\\xe0\\x9fR\\xc9?q\\x12\\x86q\\x13Rq\\x14h\\x0fc__main__\\nLeaf\\nq\\x15)\\x81q\\x16}q\\x17h\\x04h\\x05h\\tC\\x08\\xf8\\xf0\\xd57\\xd9\\xaf\\x9c\\xbfq\\x18\\x86q\\x19Rq\\x1asbX\\x07\\x00\\x00\\x00gt_nodeq\\x1bh\\x15)\\x81q\\x1c}q\\x1dh\\x04h\\x05h\\tC\\x08\\x94\\xbe#=\\x1fx\\xef?q\\x1e\\x86q\\x1fRq sbubh\\x1bh\\x00)\\x81q!}q\"(h\\x03K\\x01h\\x04h\\x05h\\tC\\x08\\xb3\\x97m\\xa7\\xad\\x91\\xe2?q#\\x86q$Rq%h\\x0fh\\x15)\\x81q&}q\\'h\\x04h\\x05h\\tC\\x08\\xfb\\xc9\\x18\\x1ff\\xb3\\xff?q(\\x86q)Rq*sbh\\x1bh\\x00)\\x81q+}q,(h\\x03K\\x01h\\x04h\\x05h\\tC\\x08\\xe5\\x0e\\x9b\\xc8\\xcc\\x85\\xe9?q-\\x86q.Rq/h\\x0fh\\x15)\\x81q0}q1h\\x04h\\x05h\\tC\\x08\\xa1}\\x10Yr\\r\\x08@q2\\x86q3Rq4sbh\\x1bh\\x15)\\x81q5}q6h\\x04h\\x05h\\tC\\x08z\\x9d\\x1e%\\xc0\\xca\\x0f@q7\\x86q8Rq9sbububub.'\n"
     ]
    }
   ],
   "source": [
    "import pickle\n",
    "\n",
    "#序列化树对象,导入后剪枝算法\n",
    "print(pickle.dumps(root))"
   ]
  }
 ],
 "metadata": {
  "kernelspec": {
   "display_name": "Python 3",
   "language": "python",
   "name": "python3"
  },
  "language_info": {
   "codemirror_mode": {
    "name": "ipython",
    "version": 3
   },
   "file_extension": ".py",
   "mimetype": "text/x-python",
   "name": "python",
   "nbconvert_exporter": "python",
   "pygments_lexer": "ipython3",
   "version": "3.6.10"
  }
 },
 "nbformat": 4,
 "nbformat_minor": 4
}
