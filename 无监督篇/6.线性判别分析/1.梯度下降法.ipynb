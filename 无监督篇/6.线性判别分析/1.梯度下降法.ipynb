{
 "cells": [
  {
   "cell_type": "code",
   "execution_count": 1,
   "metadata": {},
   "outputs": [
    {
     "data": {
      "text/plain": [
       "(array([[-0.017612, 14.053064],\n",
       "        [-0.752157,  6.53862 ],\n",
       "        [-1.322371,  7.152853],\n",
       "        [ 0.423363, 11.054677],\n",
       "        [ 0.667394, 12.741452]]),\n",
       " array([[-1.395634,  4.662541],\n",
       "        [ 0.406704,  7.067335],\n",
       "        [-2.46015 ,  6.866805],\n",
       "        [ 0.850433,  6.920334],\n",
       "        [ 1.176813,  3.16702 ]]))"
      ]
     },
     "execution_count": 1,
     "metadata": {},
     "output_type": "execute_result"
    }
   ],
   "source": [
    "import numpy as np\n",
    "\n",
    "\n",
    "#加载数据\n",
    "def load_data():\n",
    "    with open('简单分类数据.txt') as fr:\n",
    "        lines = fr.readlines()\n",
    "\n",
    "    x = np.empty((len(lines), 2), dtype=float)\n",
    "    y = np.empty(len(lines), dtype=int)\n",
    "\n",
    "    for i in range(len(lines)):\n",
    "        line = lines[i].strip().split('\\t')\n",
    "        x[i] = line[:2]\n",
    "        y[i] = line[2]\n",
    "\n",
    "    #以y区分两类x\n",
    "    x0 = x[y == -1]\n",
    "    x1 = x[y == 1]\n",
    "    \n",
    "    return x0, x1\n",
    "\n",
    "\n",
    "x0, x1 = load_data()\n",
    "x0[:5], x1[:5]"
   ]
  },
  {
   "cell_type": "code",
   "execution_count": 3,
   "metadata": {},
   "outputs": [
    {
     "data": {
      "text/plain": [
       "(array([ 0.08204613, 10.65488423]), array([-0.01613109,  2.95908379]))"
      ]
     },
     "execution_count": 3,
     "metadata": {},
     "output_type": "execute_result"
    }
   ],
   "source": [
    "#求向量均值\n",
    "mu0 = x0.mean(axis=0)\n",
    "mu1 = x1.mean(axis=0)\n",
    "mu0, mu1"
   ]
  },
  {
   "cell_type": "code",
   "execution_count": 4,
   "metadata": {},
   "outputs": [
    {
     "data": {
      "text/plain": [
       "(214.65774583851362, 581.3715229024133)"
      ]
     },
     "execution_count": 4,
     "metadata": {},
     "output_type": "execute_result"
    }
   ],
   "source": [
    "#求方差,这里的方差是求所有维度的方差的和\n",
    "sigma0 = np.power(x0 - mu0, 2).sum()\n",
    "sigma1 = np.power(x1 - mu1, 2).sum()\n",
    "sigma0, sigma1"
   ]
  },
  {
   "cell_type": "code",
   "execution_count": 5,
   "metadata": {},
   "outputs": [
    {
     "data": {
      "text/plain": [
       "array([1., 1.])"
      ]
     },
     "execution_count": 5,
     "metadata": {},
     "output_type": "execute_result"
    }
   ],
   "source": [
    "#初始化w\n",
    "w = np.ones(2)\n",
    "w"
   ]
  },
  {
   "cell_type": "code",
   "execution_count": 75,
   "metadata": {},
   "outputs": [
    {
     "data": {
      "text/plain": [
       "0.03815568736348389"
      ]
     },
     "execution_count": 75,
     "metadata": {},
     "output_type": "execute_result"
    }
   ],
   "source": [
    "#这个就是loss函数\n",
    "def get_J():\n",
    "    #投影后,两类的中心点距离最远\n",
    "    fenzi = np.power(w.dot(mu0) - w.dot(mu1), 2)\n",
    "    #投影后,两类的方差最小\n",
    "    fenmu = w.dot(sigma0).dot(w) + w.dot(sigma1).dot(w)\n",
    "\n",
    "    return fenzi / fenmu\n",
    "\n",
    "\n",
    "get_J()"
   ]
  },
  {
   "cell_type": "code",
   "execution_count": 76,
   "metadata": {},
   "outputs": [
    {
     "data": {
      "text/plain": [
       "array([-0.03701316,  0.03700377])"
      ]
     },
     "execution_count": 76,
     "metadata": {},
     "output_type": "execute_result"
    }
   ],
   "source": [
    "#暴力求梯度法\n",
    "def gradient():\n",
    "    global w\n",
    "    upsilon = 1e-2\n",
    "\n",
    "    l1 = get_J()\n",
    "    w[0] += upsilon\n",
    "    l2 = get_J()\n",
    "    w[0] -= upsilon\n",
    "    gradient_w0 = (l2 - l1) / upsilon\n",
    "\n",
    "    l1 = get_J()\n",
    "    w[1] += upsilon\n",
    "    l2 = get_J()\n",
    "    w[1] -= upsilon\n",
    "    gradient_w1 = (l2 - l1) / upsilon\n",
    "\n",
    "    return np.array([gradient_w0, gradient_w1])\n",
    "\n",
    "\n",
    "gradient()"
   ]
  },
  {
   "cell_type": "code",
   "execution_count": 77,
   "metadata": {
    "scrolled": false
   },
   "outputs": [
    {
     "name": "stdout",
     "output_type": "stream",
     "text": [
      "0.04090235565163434 [0.96298684 1.03700377]\n",
      "0.06288673175651525 [0.57619295 1.29978382]\n",
      "0.07156404745593156 [0.29631578 1.39229452]\n",
      "0.07379523338561801 [0.14778777 1.4158689 ]\n",
      "0.0742890687265664 [0.07624361 1.42136748]\n"
     ]
    }
   ],
   "source": [
    "#训练\n",
    "for i in range(50):\n",
    "    w += gradient() * 1\n",
    "\n",
    "    if i % 10 == 0:\n",
    "        print(get_J(), w)"
   ]
  },
  {
   "cell_type": "code",
   "execution_count": 78,
   "metadata": {},
   "outputs": [
    {
     "data": {
      "text/plain": [
       "(array([19.99090941,  9.26794796, 10.11611954, 15.74526361, 18.15581507]),\n",
       " array([ 6.57014221, 10.07217546,  9.6580544 ,  9.88299705,  4.55825177]))"
      ]
     },
     "execution_count": 78,
     "metadata": {},
     "output_type": "execute_result"
    }
   ],
   "source": [
    "#投影\n",
    "p0 = x0.dot(w)\n",
    "p1 = x1.dot(w)\n",
    "\n",
    "p0[:5], p1[:5]"
   ]
  },
  {
   "cell_type": "code",
   "execution_count": 79,
   "metadata": {},
   "outputs": [
    {
     "data": {
      "image/png": "[encoded data removed]",
      "text/plain": [
       "<Figure size 432x288 with 1 Axes>"
      ]
     },
     "metadata": {
      "needs_background": "light"
     },
     "output_type": "display_data"
    },
    {
     "data": {
      "image/png": "[encoded data removed]",
      "text/plain": [
       "<Figure size 432x288 with 1 Axes>"
      ]
     },
     "metadata": {
      "needs_background": "light"
     },
     "output_type": "display_data"
    }
   ],
   "source": [
    "import matplotlib.pyplot as plt\n",
    "\n",
    "\n",
    "def draw():\n",
    "    plt.scatter(x0[:, 0], x0[:, 1], c='red')\n",
    "    plt.scatter(x1[:, 0], x1[:, 1], c='blue')\n",
    "\n",
    "    plt.show()\n",
    "\n",
    "    plt.scatter(p0, np.zeros(len(p0)), c='red')\n",
    "    plt.scatter(p1, np.ones(len(p1)), c='blue')\n",
    "\n",
    "    plt.scatter(p0.mean(), -1, c='red')\n",
    "    plt.scatter(p1.mean(), 2, c='blue')\n",
    "\n",
    "    plt.show()\n",
    "\n",
    "\n",
    "draw()"
   ]
  },
  {
   "cell_type": "code",
   "execution_count": 80,
   "metadata": {},
   "outputs": [
    {
     "data": {
      "text/plain": [
       "-1"
      ]
     },
     "execution_count": 80,
     "metadata": {},
     "output_type": "execute_result"
    }
   ],
   "source": [
    "#预测函数\n",
    "def predict(p):\n",
    "    d0 = np.power(p - p0.mean(), 2)\n",
    "    d1 = np.power(p - p1.mean(), 2)\n",
    "    pred = 1 if d0 > d1 else -1\n",
    "    return pred\n",
    "\n",
    "\n",
    "predict(p0[0])"
   ]
  },
  {
   "cell_type": "code",
   "execution_count": 81,
   "metadata": {
    "scrolled": false
   },
   "outputs": [
    {
     "data": {
      "text/plain": [
       "0.92"
      ]
     },
     "execution_count": 81,
     "metadata": {},
     "output_type": "execute_result"
    }
   ],
   "source": [
    "#测试\n",
    "correct = 0\n",
    "for i in p0:\n",
    "    if predict(i) == -1:\n",
    "        correct += 1\n",
    "\n",
    "for i in p1:\n",
    "    if predict(i) == 1:\n",
    "        correct += 1\n",
    "\n",
    "correct / (len(p0) + len(p1))"
   ]
  }
 ],
 "metadata": {
  "kernelspec": {
   "display_name": "Python 3",
   "language": "python",
   "name": "python3"
  },
  "language_info": {
   "codemirror_mode": {
    "name": "ipython",
    "version": 3
   },
   "file_extension": ".py",
   "mimetype": "text/x-python",
   "name": "python",
   "nbconvert_exporter": "python",
   "pygments_lexer": "ipython3",
   "version": "3.6.13"
  }
 },
 "nbformat": 4,
 "nbformat_minor": 4
}
