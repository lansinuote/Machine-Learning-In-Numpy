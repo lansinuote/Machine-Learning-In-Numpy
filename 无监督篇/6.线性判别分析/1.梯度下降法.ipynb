{
 "cells": [
  {
   "cell_type": "code",
   "execution_count": 1,
   "metadata": {},
   "outputs": [
    {
     "data": {
      "text/plain": [
       "(array([[-0.017612, 14.053064],\n",
       "        [-0.752157,  6.53862 ],\n",
       "        [-1.322371,  7.152853],\n",
       "        [ 0.423363, 11.054677],\n",
       "        [ 0.667394, 12.741452]]),\n",
       " array([[-1.395634,  4.662541],\n",
       "        [ 0.406704,  7.067335],\n",
       "        [-2.46015 ,  6.866805],\n",
       "        [ 0.850433,  6.920334],\n",
       "        [ 1.176813,  3.16702 ]]))"
      ]
     },
     "execution_count": 1,
     "metadata": {},
     "output_type": "execute_result"
    }
   ],
   "source": [
    "import numpy as np\n",
    "\n",
    "\n",
    "#加载数据\n",
    "def load_data():\n",
    "    with open('简单分类数据.txt') as fr:\n",
    "        lines = fr.readlines()\n",
    "\n",
    "    x = np.empty((len(lines), 2), dtype=float)\n",
    "    y = np.empty(len(lines), dtype=int)\n",
    "\n",
    "    for i in range(len(lines)):\n",
    "        line = lines[i].strip().split('\\t')\n",
    "        x[i] = line[:2]\n",
    "        y[i] = line[2]\n",
    "\n",
    "    #以y区分两类x\n",
    "    x0 = x[y == -1]\n",
    "    x1 = x[y == 1]\n",
    "\n",
    "    return x0, x1\n",
    "\n",
    "\n",
    "x0, x1 = load_data()\n",
    "\n",
    "x0[:5], x1[:5]"
   ]
  },
  {
   "cell_type": "code",
   "execution_count": 2,
   "metadata": {},
   "outputs": [
    {
     "data": {
      "text/plain": [
       "(array([ 0.08204613, 10.65488423]), array([-0.01613109,  2.95908379]))"
      ]
     },
     "execution_count": 2,
     "metadata": {},
     "output_type": "execute_result"
    }
   ],
   "source": [
    "#求向量均值\n",
    "mu0 = x0.mean(axis=0)\n",
    "mu1 = x1.mean(axis=0)\n",
    "\n",
    "mu0, mu1"
   ]
  },
  {
   "cell_type": "code",
   "execution_count": 3,
   "metadata": {},
   "outputs": [
    {
     "data": {
      "text/plain": [
       "(array([[0.9579532 , 0.54249108],\n",
       "        [0.54249108, 3.70851954]]),\n",
       " array([[0.9579532 , 0.54249108],\n",
       "        [0.54249108, 3.70851954]]))"
      ]
     },
     "execution_count": 3,
     "metadata": {},
     "output_type": "execute_result"
    }
   ],
   "source": [
    "#求协方差矩阵\n",
    "def get_cov(x):\n",
    "    c = x.shape[1]\n",
    "    cov = np.zeros([c, c])\n",
    "\n",
    "    for i in range(c):\n",
    "        xi = x[:, i]\n",
    "\n",
    "        for j in range(c):\n",
    "            xj = x[:, j]\n",
    "\n",
    "            #协方差 = (x1 - x1.mean()) * (x2 - x2.mean()) / (n - 1)\n",
    "            xi = xi - xi.mean()\n",
    "            xj = xj - xj.mean()\n",
    "\n",
    "            var = xi * xj\n",
    "\n",
    "            n = len(var)\n",
    "\n",
    "            var = var.sum()\n",
    "            var /= (n - 1)\n",
    "\n",
    "            cov[i, j] = var\n",
    "\n",
    "    return cov\n",
    "\n",
    "\n",
    "#等价\n",
    "get_cov(x0), np.cov(x0, rowvar=False)"
   ]
  },
  {
   "cell_type": "code",
   "execution_count": 4,
   "metadata": {},
   "outputs": [
    {
     "data": {
      "text/plain": [
       "(array([[0.9579532 , 0.54249108],\n",
       "        [0.54249108, 3.70851954]]),\n",
       " array([[1.75563826, 2.04944407],\n",
       "        [2.04944407, 9.42458334]]))"
      ]
     },
     "execution_count": 4,
     "metadata": {},
     "output_type": "execute_result"
    }
   ],
   "source": [
    "#协方差矩阵\n",
    "sigma0 = np.cov(x0, rowvar=False)\n",
    "sigma1 = np.cov(x1, rowvar=False)\n",
    "\n",
    "sigma0, sigma1"
   ]
  },
  {
   "cell_type": "code",
   "execution_count": 5,
   "metadata": {},
   "outputs": [
    {
     "data": {
      "text/plain": [
       "array([1., 1.])"
      ]
     },
     "execution_count": 5,
     "metadata": {},
     "output_type": "execute_result"
    }
   ],
   "source": [
    "#初始化w\n",
    "w = np.ones(2)\n",
    "w"
   ]
  },
  {
   "cell_type": "code",
   "execution_count": 55,
   "metadata": {},
   "outputs": [
    {
     "data": {
      "text/plain": [
       "(10.736930361702129, 10.736930361702129)"
      ]
     },
     "execution_count": 55,
     "metadata": {},
     "output_type": "execute_result"
    }
   ],
   "source": [
    "#投影后的均值 = 均值的投影\n",
    "w.dot(x0.T).mean(), w.dot(mu0)"
   ]
  },
  {
   "cell_type": "code",
   "execution_count": 58,
   "metadata": {},
   "outputs": [
    {
     "data": {
      "text/plain": [
       "(5.751454888467757, 5.751454888467757)"
      ]
     },
     "execution_count": 58,
     "metadata": {},
     "output_type": "execute_result"
    }
   ],
   "source": [
    "#投影后的方差可以使用投影前的协方差矩阵计算出来\n",
    "p0 = w.dot(x0.T)\n",
    "\n",
    "w.dot(sigma0).dot(w), ((p0 - p0.mean())**2).sum() / (len(p0) - 1)"
   ]
  },
  {
   "cell_type": "code",
   "execution_count": 59,
   "metadata": {},
   "outputs": [
    {
     "data": {
      "text/plain": [
       "2.888466806593992"
      ]
     },
     "execution_count": 59,
     "metadata": {},
     "output_type": "execute_result"
    }
   ],
   "source": [
    "#这个就是loss函数\n",
    "def get_J():\n",
    "    #投影后,两类的中心点距离最远\n",
    "    fenzi = np.power(w.dot(mu0) - w.dot(mu1), 2)\n",
    "    #投影后,两类的方差最小\n",
    "    fenmu = w.dot(sigma0).dot(w) + w.dot(sigma1).dot(w)\n",
    "\n",
    "    return fenzi / fenmu\n",
    "\n",
    "\n",
    "get_J()"
   ]
  },
  {
   "cell_type": "code",
   "execution_count": 7,
   "metadata": {},
   "outputs": [
    {
     "data": {
      "text/plain": [
       "array([-1.38135267,  1.37410665])"
      ]
     },
     "execution_count": 7,
     "metadata": {},
     "output_type": "execute_result"
    }
   ],
   "source": [
    "#暴力求梯度法\n",
    "def gradient():\n",
    "    global w\n",
    "    upsilon = 1e-2\n",
    "\n",
    "    l1 = get_J()\n",
    "    w[0] += upsilon\n",
    "    l2 = get_J()\n",
    "    w[0] -= upsilon\n",
    "    gradient_w0 = (l2 - l1) / upsilon\n",
    "\n",
    "    l1 = get_J()\n",
    "    w[1] += upsilon\n",
    "    l2 = get_J()\n",
    "    w[1] -= upsilon\n",
    "    gradient_w1 = (l2 - l1) / upsilon\n",
    "\n",
    "    return np.array([gradient_w0, gradient_w1])\n",
    "\n",
    "\n",
    "gradient()"
   ]
  },
  {
   "cell_type": "code",
   "execution_count": 8,
   "metadata": {
    "scrolled": false
   },
   "outputs": [
    {
     "name": "stdout",
     "output_type": "stream",
     "text": [
      "4.768051340025158 [-0.38135267  2.37410665]\n",
      "5.4261552382036315 [-1.72587658  1.90296174]\n",
      "5.426155141029574 [-1.72756646  1.90479546]\n",
      "5.426155157822327 [-1.72923578  1.90664113]\n",
      "5.426155174541138 [-1.73090184  1.9084832 ]\n"
     ]
    }
   ],
   "source": [
    "#训练\n",
    "for i in range(50):\n",
    "    w += gradient() * 1\n",
    "\n",
    "    if i % 10 == 0:\n",
    "        print(get_J(), w)"
   ]
  },
  {
   "cell_type": "code",
   "execution_count": 9,
   "metadata": {},
   "outputs": [
    {
     "data": {
      "text/plain": [
       "(array([26.8738025 , 13.79270217, 15.95380985, 20.38252513, 23.1817392 ]),\n",
       " array([11.32389099, 12.7950117 , 17.37850534, 11.74550404,  4.01073614]))"
      ]
     },
     "execution_count": 9,
     "metadata": {},
     "output_type": "execute_result"
    }
   ],
   "source": [
    "#投影\n",
    "p0 = x0.dot(w)\n",
    "p1 = x1.dot(w)\n",
    "\n",
    "p0[:5], p1[:5]"
   ]
  },
  {
   "cell_type": "code",
   "execution_count": 10,
   "metadata": {},
   "outputs": [
    {
     "data": {
      "image/png": "[encoded data removed]",
      "text/plain": [
       "<Figure size 432x288 with 1 Axes>"
      ]
     },
     "metadata": {
      "needs_background": "light"
     },
     "output_type": "display_data"
    },
    {
     "data": {
      "image/png": "[encoded data removed]",
      "text/plain": [
       "<Figure size 432x288 with 1 Axes>"
      ]
     },
     "metadata": {
      "needs_background": "light"
     },
     "output_type": "display_data"
    }
   ],
   "source": [
    "import matplotlib.pyplot as plt\n",
    "\n",
    "\n",
    "def draw():\n",
    "    plt.scatter(x0[:, 0], x0[:, 1], c='red')\n",
    "    plt.scatter(x1[:, 0], x1[:, 1], c='blue')\n",
    "\n",
    "    plt.show()\n",
    "\n",
    "    plt.scatter(p0, np.zeros(len(p0)), c='red')\n",
    "    plt.scatter(p1, np.zeros(len(p1)), c='blue')\n",
    "\n",
    "    plt.scatter(p0.mean(), 1, c='red')\n",
    "    plt.scatter(p1.mean(), 1, c='blue')\n",
    "\n",
    "    plt.show()\n",
    "\n",
    "\n",
    "draw()"
   ]
  },
  {
   "cell_type": "code",
   "execution_count": 11,
   "metadata": {},
   "outputs": [
    {
     "data": {
      "text/plain": [
       "-1"
      ]
     },
     "execution_count": 11,
     "metadata": {},
     "output_type": "execute_result"
    }
   ],
   "source": [
    "#预测函数\n",
    "def predict(p):\n",
    "    d0 = np.power(p - p0.mean(), 2)\n",
    "    d1 = np.power(p - p1.mean(), 2)\n",
    "    pred = 1 if d0 > d1 else -1\n",
    "    return pred\n",
    "\n",
    "\n",
    "predict(p0[0])"
   ]
  },
  {
   "cell_type": "code",
   "execution_count": 12,
   "metadata": {
    "scrolled": false
   },
   "outputs": [
    {
     "data": {
      "text/plain": [
       "0.97"
      ]
     },
     "execution_count": 12,
     "metadata": {},
     "output_type": "execute_result"
    }
   ],
   "source": [
    "#测试\n",
    "correct = 0\n",
    "for i in p0:\n",
    "    if predict(i) == -1:\n",
    "        correct += 1\n",
    "\n",
    "for i in p1:\n",
    "    if predict(i) == 1:\n",
    "        correct += 1\n",
    "\n",
    "correct / (len(p0) + len(p1))"
   ]
  }
 ],
 "metadata": {
  "kernelspec": {
   "display_name": "Python 3",
   "language": "python",
   "name": "python3"
  },
  "language_info": {
   "codemirror_mode": {
    "name": "ipython",
    "version": 3
   },
   "file_extension": ".py",
   "mimetype": "text/x-python",
   "name": "python",
   "nbconvert_exporter": "python",
   "pygments_lexer": "ipython3",
   "version": "3.6.13"
  }
 },
 "nbformat": 4,
 "nbformat_minor": 4
}
