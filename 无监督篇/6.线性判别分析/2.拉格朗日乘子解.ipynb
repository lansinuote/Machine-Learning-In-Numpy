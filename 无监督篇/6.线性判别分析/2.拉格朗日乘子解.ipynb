{
 "cells": [
  {
   "cell_type": "code",
   "execution_count": 1,
   "metadata": {},
   "outputs": [
    {
     "data": {
      "text/plain": [
       "(array([[-0.017612, 14.053064],\n",
       "        [-0.752157,  6.53862 ],\n",
       "        [-1.322371,  7.152853],\n",
       "        [ 0.423363, 11.054677],\n",
       "        [ 0.667394, 12.741452]]),\n",
       " array([[-1.395634,  4.662541],\n",
       "        [ 0.406704,  7.067335],\n",
       "        [-2.46015 ,  6.866805],\n",
       "        [ 0.850433,  6.920334],\n",
       "        [ 1.176813,  3.16702 ]]))"
      ]
     },
     "execution_count": 1,
     "metadata": {},
     "output_type": "execute_result"
    }
   ],
   "source": [
    "import numpy as np\n",
    "\n",
    "\n",
    "#加载数据\n",
    "def load_data():\n",
    "    with open('简单分类数据.txt') as fr:\n",
    "        lines = fr.readlines()\n",
    "\n",
    "    x = np.empty((len(lines), 2), dtype=float)\n",
    "    y = np.empty(len(lines), dtype=int)\n",
    "\n",
    "    for i in range(len(lines)):\n",
    "        line = lines[i].strip().split('\\t')\n",
    "        x[i] = line[:2]\n",
    "        y[i] = line[2]\n",
    "\n",
    "    #以y区分两类x\n",
    "    x0 = x[y == -1]\n",
    "    x1 = x[y == 1]\n",
    "\n",
    "    return x0, x1\n",
    "\n",
    "\n",
    "x0, x1 = load_data()\n",
    "x0[:5], x1[:5]"
   ]
  },
  {
   "cell_type": "code",
   "execution_count": 2,
   "metadata": {},
   "outputs": [
    {
     "data": {
      "text/plain": [
       "(array([ 0.08204613, 10.65488423]), array([-0.01613109,  2.95908379]))"
      ]
     },
     "execution_count": 2,
     "metadata": {},
     "output_type": "execute_result"
    }
   ],
   "source": [
    "#求向量均值\n",
    "mu0 = x0.mean(axis=0)\n",
    "mu1 = x1.mean(axis=0)\n",
    "mu0, mu1"
   ]
  },
  {
   "cell_type": "code",
   "execution_count": 3,
   "metadata": {},
   "outputs": [
    {
     "data": {
      "text/plain": [
       "(array([[0.9579532 , 0.54249108],\n",
       "        [0.54249108, 3.70851954]]),\n",
       " array([[1.75563826, 2.04944407],\n",
       "        [2.04944407, 9.42458334]]))"
      ]
     },
     "execution_count": 3,
     "metadata": {},
     "output_type": "execute_result"
    }
   ],
   "source": [
    "#求协方差矩阵\n",
    "sigma0 = np.cov(x0, rowvar=False)\n",
    "sigma1 = np.cov(x1, rowvar=False)\n",
    "sigma0, sigma1"
   ]
  },
  {
   "cell_type": "code",
   "execution_count": 4,
   "metadata": {},
   "outputs": [
    {
     "data": {
      "text/plain": [
       "(array([[ 2.71359145,  2.59193514],\n",
       "        [ 2.59193514, 13.13310288]]),\n",
       " array([[9.63876692e-03, 7.55552308e-01],\n",
       "        [7.55552308e-01, 5.92253444e+01]]))"
      ]
     },
     "execution_count": 4,
     "metadata": {},
     "output_type": "execute_result"
    }
   ],
   "source": [
    "#按照书上的思路,定义sw和sb\n",
    "sw = sigma0 + sigma1\n",
    "sb = np.outer(mu0 - mu1, mu0 - mu1)\n",
    "\n",
    "sw, sb"
   ]
  },
  {
   "cell_type": "code",
   "execution_count": 5,
   "metadata": {},
   "outputs": [
    {
     "data": {
      "text/plain": [
       "(array([[ 0.45412231, -0.08962509],\n",
       "        [-0.08962509,  0.09383178]]),\n",
       " array([[ 0.45412231, -0.08962509],\n",
       "        [-0.08962509,  0.09383178]]))"
      ]
     },
     "execution_count": 5,
     "metadata": {},
     "output_type": "execute_result"
    }
   ],
   "source": [
    "#求sw的逆矩阵\n",
    "#奇异值分解\n",
    "u, sigma, v = np.linalg.svd(sw, full_matrices=False)\n",
    "\n",
    "#求逆矩阵\n",
    "sw_I = np.matmul(v.T / sigma, u.T)\n",
    "\n",
    "#两者等价，但是使用奇异值分解的方式可以保证数值的稳定性\n",
    "sw_I, np.linalg.inv(sw)"
   ]
  },
  {
   "cell_type": "code",
   "execution_count": 6,
   "metadata": {},
   "outputs": [
    {
     "data": {
      "text/plain": [
       "array([-0.64515237,  0.71331152])"
      ]
     },
     "execution_count": 6,
     "metadata": {},
     "output_type": "execute_result"
    }
   ],
   "source": [
    "#约束:w * sw * w.T = 1\n",
    "#求最大:w * sb * w.T\n",
    "#w = sw.I * (mu0 - mu1)\n",
    "w = sw_I.dot(mu0 - mu1)\n",
    "w"
   ]
  },
  {
   "cell_type": "code",
   "execution_count": 7,
   "metadata": {},
   "outputs": [
    {
     "data": {
      "text/plain": [
       "(array([10.03557485,  5.14932884,  5.95534323,  7.61229479,  8.65805365]),\n",
       " array([4.22624079, 4.77882541, 6.48534272, 4.38769508, 1.49984814]))"
      ]
     },
     "execution_count": 7,
     "metadata": {},
     "output_type": "execute_result"
    }
   ],
   "source": [
    "#投影\n",
    "#(N,2) * (2,1) = (N,1)\n",
    "p0 = x0.dot(w)\n",
    "p1 = x1.dot(w)\n",
    "\n",
    "p0[:5], p1[:5]"
   ]
  },
  {
   "cell_type": "code",
   "execution_count": 8,
   "metadata": {},
   "outputs": [
    {
     "data": {
      "image/png": "[encoded data removed]",
      "text/plain": [
       "<Figure size 432x288 with 1 Axes>"
      ]
     },
     "metadata": {
      "needs_background": "light"
     },
     "output_type": "display_data"
    },
    {
     "data": {
      "image/png": "[encoded data removed]",
      "text/plain": [
       "<Figure size 432x288 with 1 Axes>"
      ]
     },
     "metadata": {
      "needs_background": "light"
     },
     "output_type": "display_data"
    }
   ],
   "source": [
    "import matplotlib.pyplot as plt\n",
    "\n",
    "\n",
    "def draw():\n",
    "    plt.scatter(x0[:, 0], x0[:, 1], c='red')\n",
    "    plt.scatter(x1[:, 0], x1[:, 1], c='blue')\n",
    "\n",
    "    plt.show()\n",
    "\n",
    "    plt.scatter(p0, np.zeros(len(p0)), c='red')\n",
    "    plt.scatter(p1, np.zeros(len(p1)), c='blue')\n",
    "\n",
    "    plt.scatter(p0.mean(), 1, c='red')\n",
    "    plt.scatter(p1.mean(), 1, c='blue')\n",
    "\n",
    "    plt.show()\n",
    "\n",
    "\n",
    "draw()"
   ]
  },
  {
   "cell_type": "code",
   "execution_count": 9,
   "metadata": {},
   "outputs": [
    {
     "data": {
      "text/plain": [
       "-1"
      ]
     },
     "execution_count": 9,
     "metadata": {},
     "output_type": "execute_result"
    }
   ],
   "source": [
    "#预测函数\n",
    "def predict(p):\n",
    "    d0 = np.power(p - p0.mean(), 2)\n",
    "    d1 = np.power(p - p1.mean(), 2)\n",
    "    pred = 1 if d0 > d1 else -1\n",
    "    return pred\n",
    "\n",
    "\n",
    "predict(p0[0])"
   ]
  },
  {
   "cell_type": "code",
   "execution_count": 10,
   "metadata": {
    "scrolled": false
   },
   "outputs": [
    {
     "data": {
      "text/plain": [
       "0.97"
      ]
     },
     "execution_count": 10,
     "metadata": {},
     "output_type": "execute_result"
    }
   ],
   "source": [
    "#测试\n",
    "correct = 0\n",
    "for i in p0:\n",
    "    if predict(i) == -1:\n",
    "        correct += 1\n",
    "\n",
    "for i in p1:\n",
    "    if predict(i) == 1:\n",
    "        correct += 1\n",
    "\n",
    "correct / (len(p0) + len(p1))"
   ]
  }
 ],
 "metadata": {
  "kernelspec": {
   "display_name": "Python 3",
   "language": "python",
   "name": "python3"
  },
  "language_info": {
   "codemirror_mode": {
    "name": "ipython",
    "version": 3
   },
   "file_extension": ".py",
   "mimetype": "text/x-python",
   "name": "python",
   "nbconvert_exporter": "python",
   "pygments_lexer": "ipython3",
   "version": "3.6.13"
  }
 },
 "nbformat": 4,
 "nbformat_minor": 4
}
