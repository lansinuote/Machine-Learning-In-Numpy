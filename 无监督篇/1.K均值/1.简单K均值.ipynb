{
 "cells": [
  {
   "cell_type": "code",
   "execution_count": 1,
   "metadata": {},
   "outputs": [
    {
     "data": {
      "text/plain": [
       "(array([[ 1.658985,  4.285136],\n",
       "        [-3.453687,  3.424321],\n",
       "        [ 4.838138, -1.151539],\n",
       "        [-5.379713, -3.362104],\n",
       "        [ 0.972564,  2.924086]]),\n",
       " (80, 2))"
      ]
     },
     "execution_count": 1,
     "metadata": {},
     "output_type": "execute_result"
    }
   ],
   "source": [
    "import numpy as np\n",
    "\n",
    "\n",
    "#加载数据\n",
    "def load_data(file_name):\n",
    "    with open(file_name) as fr:\n",
    "        lines = fr.readlines()\n",
    "\n",
    "    x = np.empty((len(lines), 2), dtype=float)\n",
    "\n",
    "    for i in range(len(lines)):\n",
    "        line = lines[i].split('\\t')\n",
    "        x[i] = line\n",
    "\n",
    "    return x\n",
    "\n",
    "\n",
    "x = load_data('简单数据.txt')\n",
    "x[:5], x.shape"
   ]
  },
  {
   "cell_type": "code",
   "execution_count": 2,
   "metadata": {},
   "outputs": [],
   "source": [
    "#定义常量\n",
    "N, M = x.shape"
   ]
  },
  {
   "cell_type": "code",
   "execution_count": 3,
   "metadata": {},
   "outputs": [
    {
     "data": {
      "image/png": "[encoded data removed]",
      "text/plain": [
       "<Figure size 432x288 with 1 Axes>"
      ]
     },
     "metadata": {
      "needs_background": "light"
     },
     "output_type": "display_data"
    }
   ],
   "source": [
    "from matplotlib import pyplot as plt\n",
    "\n",
    "\n",
    "#画图\n",
    "def draw(cent=None, pred=None):\n",
    "    plt.scatter(x[:, 0], x[:, 1], c=pred)\n",
    "\n",
    "    if cent is not None:\n",
    "        plt.scatter(cents[:, 0], cents[:, 1], c='red', s=100)\n",
    "\n",
    "    plt.show()\n",
    "\n",
    "\n",
    "draw()"
   ]
  },
  {
   "cell_type": "code",
   "execution_count": 4,
   "metadata": {},
   "outputs": [
    {
     "data": {
      "text/plain": [
       "5.9734869999999995"
      ]
     },
     "execution_count": 4,
     "metadata": {},
     "output_type": "execute_result"
    }
   ],
   "source": [
    "def distance(x1, x2):\n",
    "    return np.sum(np.abs(x1 - x2))\n",
    "\n",
    "\n",
    "distance(x[0], x[1])"
   ]
  },
  {
   "cell_type": "code",
   "execution_count": 5,
   "metadata": {},
   "outputs": [
    {
     "name": "stdout",
     "output_type": "stream",
     "text": [
      "[[-0.79983619  1.88628731]\n",
      " [-4.24430882 -1.97829499]\n",
      " [ 1.7312281  -0.28369848]\n",
      " [ 2.0442153  -2.28675645]]\n"
     ]
    },
    {
     "data": {
      "image/png": "[encoded data removed]",
      "text/plain": [
       "<Figure size 432x288 with 1 Axes>"
      ]
     },
     "metadata": {
      "needs_background": "light"
     },
     "output_type": "display_data"
    }
   ],
   "source": [
    "#随机初始化k个中心点\n",
    "def rand_cent(k):\n",
    "\n",
    "    cent = np.empty((k, M))\n",
    "    for col in range(M):\n",
    "        cent[:, col] = np.random.uniform(low=x[:, col].min(),\n",
    "                                         high=x[:, col].max(),\n",
    "                                         size=(k))\n",
    "    return cent\n",
    "\n",
    "\n",
    "cents = rand_cent(4)\n",
    "print(cents)\n",
    "\n",
    "draw(cents)"
   ]
  },
  {
   "cell_type": "code",
   "execution_count": 6,
   "metadata": {},
   "outputs": [
    {
     "data": {
      "text/plain": [
       "(3, 2.992805354830718)"
      ]
     },
     "execution_count": 6,
     "metadata": {},
     "output_type": "execute_result"
    }
   ],
   "source": [
    "def predict(xi, cents):\n",
    "    min_ki = 0\n",
    "    min_d = np.inf\n",
    "    for ki in range(len(cents)):\n",
    "        d = distance(xi, cents[ki])\n",
    "        if d < min_d:\n",
    "            min_d = d\n",
    "            min_ki = ki\n",
    "    return min_ki, min_d\n",
    "\n",
    "\n",
    "predict(x[0], rand_cent(4))"
   ]
  },
  {
   "cell_type": "code",
   "execution_count": 7,
   "metadata": {
    "scrolled": true
   },
   "outputs": [
    {
     "name": "stdout",
     "output_type": "stream",
     "text": [
      "[[ 2.80293085 -2.7315146 ]\n",
      " [-2.46154315  2.78737555]\n",
      " [-3.38237045 -2.9473363 ]\n",
      " [ 2.6265299   3.10868015]]\n"
     ]
    },
    {
     "data": {
      "image/png": "[encoded data removed]",
      "text/plain": [
       "<Figure size 432x288 with 1 Axes>"
      ]
     },
     "metadata": {
      "needs_background": "light"
     },
     "output_type": "display_data"
    }
   ],
   "source": [
    "def get_cents(k):\n",
    "\n",
    "    #随机初始化k个中心点\n",
    "    cents = rand_cent(k)\n",
    "\n",
    "    #循环训练\n",
    "    pred = np.zeros(N)\n",
    "    changed = True\n",
    "    while changed:\n",
    "        changed = False\n",
    "\n",
    "        #把每个点都归类到某种中心点\n",
    "        for i in range(N):\n",
    "            ki,d = predict(x[i],cents)\n",
    "\n",
    "            if pred[i] != ki:\n",
    "                changed = True\n",
    "            pred[i] = ki\n",
    "\n",
    "        #重新计算中心点的位置,为属于自己的点的均值\n",
    "        for ki in range(k):\n",
    "            x_ki = x[pred == ki]\n",
    "            cents[ki] = np.mean(x_ki, axis=0)\n",
    "    return cents\n",
    "\n",
    "\n",
    "cents = get_cents(4)\n",
    "print(cents)\n",
    "\n",
    "draw(cents)"
   ]
  },
  {
   "cell_type": "code",
   "execution_count": 8,
   "metadata": {},
   "outputs": [
    {
     "data": {
      "image/png": "[encoded data removed]",
      "text/plain": [
       "<Figure size 432x288 with 1 Axes>"
      ]
     },
     "metadata": {
      "needs_background": "light"
     },
     "output_type": "display_data"
    }
   ],
   "source": [
    "#画图\n",
    "y = np.empty(N)\n",
    "for i in range(N):\n",
    "    y[i], _ = predict(x[i], cents)\n",
    "draw(cents, y)"
   ]
  }
 ],
 "metadata": {
  "kernelspec": {
   "display_name": "Python 3",
   "language": "python",
   "name": "python3"
  },
  "language_info": {
   "codemirror_mode": {
    "name": "ipython",
    "version": 3
   },
   "file_extension": ".py",
   "mimetype": "text/x-python",
   "name": "python",
   "nbconvert_exporter": "python",
   "pygments_lexer": "ipython3",
   "version": "3.6.10"
  }
 },
 "nbformat": 4,
 "nbformat_minor": 4
}
