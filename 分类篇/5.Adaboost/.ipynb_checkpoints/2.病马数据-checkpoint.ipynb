{
 "cells": [
  {
   "cell_type": "code",
   "execution_count": 1,
   "metadata": {},
   "outputs": [
    {
     "data": {
      "text/plain": [
       "(array([[1.        , 0.        , 0.94362745, 0.35869565, 0.29166667,\n",
       "         0.75      , 0.75      , 0.        , 0.66666667, 1.        ,\n",
       "         1.        , 1.        , 0.        , 0.        , 0.        ,\n",
       "         0.75      , 1.        , 0.6       , 0.09438202, 0.        ,\n",
       "         0.        ],\n",
       "        [0.        , 0.        , 0.96078431, 0.47826087, 0.20833333,\n",
       "         0.        , 0.        , 0.66666667, 0.33333333, 0.6       ,\n",
       "         1.        , 0.5       , 0.        , 0.        , 0.        ,\n",
       "         1.        , 0.4       , 0.66666667, 0.95505618, 0.66666667,\n",
       "         0.1980198 ],\n",
       "        [1.        , 0.        , 0.93872549, 0.2173913 , 0.25      ,\n",
       "         0.25      , 0.25      , 0.5       , 0.33333333, 0.6       ,\n",
       "         0.75      , 0.25      , 0.        , 0.        , 0.        ,\n",
       "         0.25      , 0.2       , 0.44      , 0.0752809 , 0.        ,\n",
       "         0.        ],\n",
       "        [0.        , 1.        , 0.95833333, 0.89130435, 0.875     ,\n",
       "         1.        , 0.25      , 1.        , 0.66666667, 0.4       ,\n",
       "         1.        , 1.        , 0.33333333, 0.66666667, 0.66666667,\n",
       "         0.75      , 0.        , 0.64      , 0.08089888, 1.        ,\n",
       "         0.52475248],\n",
       "        [1.        , 0.        , 0.91421569, 0.56521739, 0.36458333,\n",
       "         0.        , 0.        , 1.        , 0.66666667, 0.        ,\n",
       "         0.        , 0.        , 0.        , 0.        , 0.        ,\n",
       "         0.        , 0.        , 0.98666667, 0.08314607, 0.        ,\n",
       "         0.        ]]),\n",
       " array([-1, -1,  1, -1, -1]),\n",
       " (299, 21),\n",
       " (299,))"
      ]
     },
     "execution_count": 1,
     "metadata": {},
     "output_type": "execute_result"
    }
   ],
   "source": [
    "import numpy as np\n",
    "\n",
    "\n",
    "#加载数据\n",
    "def load_data(file_name):\n",
    "    with open(file_name) as fr:\n",
    "        lines = fr.readlines()\n",
    "\n",
    "    x = np.empty((len(lines), 21), dtype=float)\n",
    "    y = np.empty(len(lines), dtype=int)\n",
    "    for i in range(len(lines)):\n",
    "        line = lines[i].strip().split('\\t')\n",
    "        x[i] = line[:21]\n",
    "        y[i] = line[21]\n",
    "\n",
    "    #数据整形\n",
    "    for i in range(x.shape[1]):\n",
    "        #取出一列数据\n",
    "        xi = x[:, i]\n",
    "\n",
    "        #最小值是0\n",
    "        xi -= xi.min()\n",
    "\n",
    "        #最大值是1\n",
    "        xi /= xi.max()\n",
    "\n",
    "        x[:, i] = xi\n",
    "\n",
    "    return x, y\n",
    "\n",
    "\n",
    "w = np.ones(21)\n",
    "b = 0\n",
    "\n",
    "x, y = load_data('病马数据_训练.txt')\n",
    "\n",
    "x[:5], y[:5], x.shape, y.shape"
   ]
  },
  {
   "cell_type": "code",
   "execution_count": 2,
   "metadata": {},
   "outputs": [
    {
     "data": {
      "text/plain": [
       "array([0.00334448, 0.00334448, 0.00334448, 0.00334448, 0.00334448])"
      ]
     },
     "execution_count": 2,
     "metadata": {},
     "output_type": "execute_result"
    }
   ],
   "source": [
    "N = len(x)\n",
    "\n",
    "#数据权重,在初始化时,认为所有的数据都是等价的\n",
    "D = np.empty(N)\n",
    "D.fill(1 / N)\n",
    "D[:5]"
   ]
  },
  {
   "cell_type": "code",
   "execution_count": 3,
   "metadata": {},
   "outputs": [
    {
     "name": "stdout",
     "output_type": "stream",
     "text": [
      "Tree{col=0,value=1.00,eq=<,weight=1.00}\n"
     ]
    },
    {
     "data": {
      "text/plain": [
       "-1"
      ]
     },
     "execution_count": 3,
     "metadata": {},
     "output_type": "execute_result"
    }
   ],
   "source": [
    "class Tree():\n",
    "    def __init__(self, col, value, eq):\n",
    "        self.col = col\n",
    "        self.value = value\n",
    "        self.eq = eq\n",
    "        #权重\n",
    "        self.weight = 1\n",
    "\n",
    "    #预测方法,简单的根据某个值分割数据\n",
    "    def __call__(self, xi):\n",
    "        if self.eq == '<':\n",
    "            if xi[self.col] < self.value:\n",
    "                return 1\n",
    "            return -1\n",
    "\n",
    "        if self.eq == '>':\n",
    "            if xi[self.col] >= self.value:\n",
    "                return 1\n",
    "            return -1\n",
    "\n",
    "    def __str__(self):\n",
    "        return 'Tree{col=%d,value=%.2f,eq=%s,weight=%.2f}' % (\n",
    "            self.col, self.value, self.eq, self.weight)\n",
    "\n",
    "\n",
    "tree = Tree(0, 1, '<')\n",
    "print(tree)\n",
    "tree(x[0])"
   ]
  },
  {
   "cell_type": "code",
   "execution_count": 4,
   "metadata": {},
   "outputs": [
    {
     "data": {
      "text/plain": [
       "0.5618729096989964"
      ]
     },
     "execution_count": 4,
     "metadata": {},
     "output_type": "execute_result"
    }
   ],
   "source": [
    "#计算树的loss,考虑数据的权重,越重要的数据,惩罚的越严重\n",
    "def get_loss(tree):\n",
    "    loss = 0\n",
    "    for xi, yi, di in zip(x, y, D):\n",
    "        pred = tree(xi)\n",
    "        if pred != yi:\n",
    "            loss += di\n",
    "    return loss\n",
    "\n",
    "\n",
    "get_loss(tree)"
   ]
  },
  {
   "cell_type": "code",
   "execution_count": 5,
   "metadata": {},
   "outputs": [
    {
     "name": "stdout",
     "output_type": "stream",
     "text": [
      "Tree{col=9,value=0.70,eq=<,weight=1.00}\n"
     ]
    },
    {
     "data": {
      "text/plain": [
       "0.28428093645484936"
      ]
     },
     "execution_count": 5,
     "metadata": {},
     "output_type": "execute_result"
    }
   ],
   "source": [
    "#训练一棵树,总的来说,就是求loss最小\n",
    "def get_tree():\n",
    "\n",
    "    min_loss = np.inf\n",
    "\n",
    "    min_col = 0\n",
    "    min_value = 0\n",
    "    min_eq = '<'\n",
    "\n",
    "    min_loss_tree = None\n",
    "\n",
    "    #遍历所有列\n",
    "    for col in range(x.shape[1]):\n",
    "\n",
    "        #遍历符号\n",
    "        for eq in ['<', '>']:\n",
    "\n",
    "            #从 列最小-0.1 遍历到 列最大+0.1\n",
    "            col_min = x[:, col].min() - 0.1\n",
    "            col_max = x[:, col].max() + 0.1\n",
    "\n",
    "            value = col_min\n",
    "\n",
    "            #遍历value值\n",
    "            while value < col_max:\n",
    "                tree = Tree(col, value, eq)\n",
    "                loss = get_loss(tree)\n",
    "\n",
    "                if loss < min_loss:\n",
    "                    min_loss = loss\n",
    "                    min_tree = tree\n",
    "\n",
    "                value += 0.1\n",
    "\n",
    "    return min_tree\n",
    "\n",
    "\n",
    "tree = get_tree()\n",
    "print(tree)\n",
    "get_loss(tree)"
   ]
  },
  {
   "cell_type": "code",
   "execution_count": 6,
   "metadata": {},
   "outputs": [
    {
     "data": {
      "text/plain": [
       "0.46166237926576786"
      ]
     },
     "execution_count": 6,
     "metadata": {},
     "output_type": "execute_result"
    }
   ],
   "source": [
    "#计算树的权重\n",
    "def get_tree_weight(tree):\n",
    "    #在当前数据权重的情况下,计算loss\n",
    "    loss = get_loss(tree)\n",
    "\n",
    "    #计算权重,这是一个恒正的数,loss约低,权重越大\n",
    "    #防止分母为0\n",
    "    weight = (1 - loss) / max(loss, 1e-5)\n",
    "\n",
    "    #取对数,防止小数连乘\n",
    "    return np.log(weight) / 2\n",
    "\n",
    "\n",
    "tree.weight = get_tree_weight(tree)\n",
    "tree.weight"
   ]
  },
  {
   "cell_type": "code",
   "execution_count": 7,
   "metadata": {},
   "outputs": [
    {
     "data": {
      "text/plain": [
       "array([0.00233645, 0.00588235, 0.00233645, 0.00588235, 0.00588235])"
      ]
     },
     "execution_count": 7,
     "metadata": {},
     "output_type": "execute_result"
    }
   ],
   "source": [
    "#计算数据的权重\n",
    "def get_D(tree):\n",
    "\n",
    "    new_D = np.empty(N)\n",
    "\n",
    "    for i in range(N):\n",
    "        #如果预测结果不正确,则增加数据的权重.预测正确,则减小数据的权重,当然也要考虑树本身的权重\n",
    "        temp = tree.weight * -y[i] * tree(x[i])\n",
    "\n",
    "        #取exp,可以认为是转换为了百分比,负数取exp,是一个小于1的数, 正数取exp, 是一个大于1的数.当然,exp是恒正的\n",
    "        temp = np.exp(temp)\n",
    "\n",
    "        #让D在上面的的计算结果上伸展\n",
    "        new_D[i] = D[i] * temp\n",
    "\n",
    "    #归一化\n",
    "    new_D = new_D / new_D.sum()\n",
    "\n",
    "    return new_D\n",
    "\n",
    "\n",
    "get_D(tree)[:5]"
   ]
  },
  {
   "cell_type": "code",
   "execution_count": 8,
   "metadata": {},
   "outputs": [
    {
     "name": "stdout",
     "output_type": "stream",
     "text": [
      "Tree{col=9,value=0.70,eq=<,weight=0.46}\n",
      "Tree{col=17,value=0.70,eq=<,weight=0.31}\n",
      "Tree{col=3,value=0.30,eq=<,weight=0.29}\n",
      "Tree{col=18,value=0.70,eq=>,weight=0.23}\n",
      "Tree{col=10,value=0.10,eq=>,weight=0.20}\n",
      "Tree{col=5,value=0.60,eq=<,weight=0.19}\n",
      "Tree{col=12,value=0.40,eq=>,weight=0.15}\n",
      "Tree{col=7,value=0.20,eq=<,weight=0.16}\n",
      "Tree{col=5,value=0.10,eq=>,weight=0.14}\n",
      "Tree{col=4,value=0.30,eq=>,weight=0.13}\n"
     ]
    }
   ],
   "source": [
    "def train():\n",
    "    global D\n",
    "\n",
    "    trees = []\n",
    "    #训练10棵树\n",
    "    for i in range(10):\n",
    "        tree = get_tree()\n",
    "        tree.weight = get_tree_weight(tree)\n",
    "        trees.append(tree)\n",
    "\n",
    "        #重新计算数据权重\n",
    "        D = get_D(tree)\n",
    "\n",
    "    return trees\n",
    "\n",
    "\n",
    "#重新初始化数据权重\n",
    "D.fill(1 / N)\n",
    "D\n",
    "\n",
    "trees = train()\n",
    "for i in trees:\n",
    "    print(i)"
   ]
  },
  {
   "cell_type": "code",
   "execution_count": 9,
   "metadata": {},
   "outputs": [
    {
     "data": {
      "text/plain": [
       "-1.0"
      ]
     },
     "execution_count": 9,
     "metadata": {},
     "output_type": "execute_result"
    }
   ],
   "source": [
    "#预测函数\n",
    "def prediction(trees, xi):\n",
    "\n",
    "    #就是累加树的权重*树的结果,因为前面取了对数权重了,所以这里用加号而不是乘号\n",
    "    pred = 0\n",
    "    for tree in trees:\n",
    "        pred += tree.weight * tree(xi)\n",
    "\n",
    "    #判断正负\n",
    "    pred = np.sign(pred)\n",
    "    return pred\n",
    "\n",
    "\n",
    "prediction(trees, x[0])"
   ]
  },
  {
   "cell_type": "code",
   "execution_count": 10,
   "metadata": {},
   "outputs": [
    {
     "data": {
      "text/plain": [
       "0.7692307692307693"
      ]
     },
     "execution_count": 10,
     "metadata": {},
     "output_type": "execute_result"
    }
   ],
   "source": [
    "#测试\n",
    "correct = 0\n",
    "for xi, yi in zip(x, y):\n",
    "    pred = prediction(trees, xi)\n",
    "    if pred == yi:\n",
    "        correct += 1\n",
    "\n",
    "correct / N"
   ]
  },
  {
   "cell_type": "code",
   "execution_count": 11,
   "metadata": {
    "scrolled": false
   },
   "outputs": [
    {
     "data": {
      "text/plain": [
       "0.7611940298507462"
      ]
     },
     "execution_count": 11,
     "metadata": {},
     "output_type": "execute_result"
    }
   ],
   "source": [
    "x, y = load_data('病马数据_测试.txt')\n",
    "\n",
    "#测试\n",
    "correct = 0\n",
    "for xi, yi in zip(x, y):\n",
    "    pred = prediction(trees, xi)\n",
    "    if pred == yi:\n",
    "        correct += 1\n",
    "\n",
    "correct / len(x)"
   ]
  }
 ],
 "metadata": {
  "kernelspec": {
   "display_name": "Python 3",
   "language": "python",
   "name": "python3"
  },
  "language_info": {
   "codemirror_mode": {
    "name": "ipython",
    "version": 3
   },
   "file_extension": ".py",
   "mimetype": "text/x-python",
   "name": "python",
   "nbconvert_exporter": "python",
   "pygments_lexer": "ipython3",
   "version": "3.6.10"
  }
 },
 "nbformat": 4,
 "nbformat_minor": 4
}
