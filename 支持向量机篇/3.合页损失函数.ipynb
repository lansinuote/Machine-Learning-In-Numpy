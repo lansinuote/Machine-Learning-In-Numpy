{
 "cells": [
  {
   "cell_type": "code",
   "execution_count": 1,
   "id": "mounted-career",
   "metadata": {},
   "outputs": [
    {
     "data": {
      "text/plain": [
       "(array([[-1.06595, -2.74223],\n",
       "        [-0.87436, -1.91486],\n",
       "        [ 1.39905, -1.28352],\n",
       "        [ 0.18064, -2.87754],\n",
       "        [-0.22919, -1.86742]]),\n",
       " array([1, 1, 1, 1, 1]))"
      ]
     },
     "execution_count": 1,
     "metadata": {},
     "output_type": "execute_result"
    }
   ],
   "source": [
    "import numpy as np\n",
    "\n",
    "\n",
    "#加载数据\n",
    "def load_data():\n",
    "    #可分不可分都可以处理\n",
    "    with open('线性不可分数据集.txt') as fr:\n",
    "        lines = fr.readlines()\n",
    "\n",
    "    x = np.ones((len(lines), 2), dtype=float)\n",
    "    y = np.empty(len(lines), dtype=float)\n",
    "\n",
    "    for i in range(len(lines)):\n",
    "        line = lines[i].strip().split(',')\n",
    "        x[i] = line[:2]\n",
    "        y[i] = line[2]\n",
    "\n",
    "    y = y.astype(np.int)\n",
    "\n",
    "    return x, y\n",
    "\n",
    "\n",
    "x, y = load_data()\n",
    "x[:5], y[:5]"
   ]
  },
  {
   "cell_type": "code",
   "execution_count": 2,
   "id": "closed-northeast",
   "metadata": {},
   "outputs": [],
   "source": [
    "#常量\n",
    "N, M = x.shape\n",
    "\n",
    "w = np.empty(M)\n",
    "w.fill(1 / M)\n",
    "b = 0.0"
   ]
  },
  {
   "cell_type": "code",
   "execution_count": 3,
   "id": "crazy-mechanics",
   "metadata": {},
   "outputs": [
    {
     "data": {
      "image/png": "[encoded data removed]",
      "text/plain": [
       "<Figure size 432x288 with 1 Axes>"
      ]
     },
     "metadata": {
      "needs_background": "light"
     },
     "output_type": "display_data"
    }
   ],
   "source": [
    "import matplotlib.pyplot as plt\n",
    "\n",
    "\n",
    "#把线画出来,线就是wx + b = 0\n",
    "def draw():\n",
    "    X = np.arange(x[:, 0].min(), x[:, 0].max(), 1)\n",
    "    Y = np.empty([len(X)])\n",
    "\n",
    "    for i in range(len(X)):\n",
    "        Y[i] = (-w[0] * X[i] - b) / w[1]\n",
    "    plt.plot(X, Y, c='red')\n",
    "\n",
    "    for i in range(len(X)):\n",
    "        Y[i] = (1 - w[0] * X[i] - b) / w[1]\n",
    "    plt.plot(X, Y, c='blue')\n",
    "\n",
    "    for i in range(len(X)):\n",
    "        Y[i] = (-1 - w[0] * X[i] - b) / w[1]\n",
    "    plt.plot(X, Y, c='green')\n",
    "\n",
    "    plt.scatter(x[:, 0], x[:, 1], c=y)\n",
    "\n",
    "    plt.show()\n",
    "\n",
    "\n",
    "draw()"
   ]
  },
  {
   "cell_type": "code",
   "execution_count": 4,
   "id": "clear-locking",
   "metadata": {},
   "outputs": [
    {
     "data": {
      "text/plain": [
       "-1.90409"
      ]
     },
     "execution_count": 4,
     "metadata": {},
     "output_type": "execute_result"
    }
   ],
   "source": [
    "def predict(x):\n",
    "    return w.dot(x) + b\n",
    "\n",
    "\n",
    "predict(x[0])"
   ]
  },
  {
   "cell_type": "code",
   "execution_count": 5,
   "id": "strategic-maldives",
   "metadata": {},
   "outputs": [
    {
     "data": {
      "text/plain": [
       "(-1.90409, -2.6927899019789865)"
      ]
     },
     "execution_count": 5,
     "metadata": {},
     "output_type": "execute_result"
    }
   ],
   "source": [
    "#函数距离,缺点是w和b同时成比例变化时,它也会变化\n",
    "def functional_margin(x, y):\n",
    "    return y * w.dot(x) + b\n",
    "\n",
    "\n",
    "#几何距离,w和b成比例变化时,对它没有影响\n",
    "def geometric_marginn(x, y):\n",
    "    l2_w = (w**2).sum()**0.5\n",
    "    return functional_margin(x, y) / l2_w\n",
    "\n",
    "\n",
    "functional_margin(x[0], y[0]), geometric_marginn(x[0], y[0])"
   ]
  },
  {
   "cell_type": "code",
   "execution_count": 6,
   "id": "reserved-shoulder",
   "metadata": {},
   "outputs": [
    {
     "data": {
      "text/plain": [
       "(0.023865000000000025, 0.03375020666603395)"
      ]
     },
     "execution_count": 6,
     "metadata": {},
     "output_type": "execute_result"
    }
   ],
   "source": [
    "#最小函数距离\n",
    "def min_functional_margin():\n",
    "    _min = np.inf\n",
    "    for i in range(N):\n",
    "        temp = functional_margin(x[i], y[i])\n",
    "        if temp < 0:\n",
    "            continue\n",
    "        if temp < _min:\n",
    "            _min = temp\n",
    "    return _min\n",
    "\n",
    "\n",
    "#最小几何距离\n",
    "def min_geometric_marginn():\n",
    "    l2_w = (w**2).sum()**0.5\n",
    "    return min_functional_margin() / l2_w\n",
    "\n",
    "\n",
    "min_functional_margin(), min_geometric_marginn()"
   ]
  },
  {
   "cell_type": "code",
   "execution_count": 7,
   "id": "neutral-submission",
   "metadata": {},
   "outputs": [
    {
     "data": {
      "text/plain": [
       "186.34919000000005"
      ]
     },
     "execution_count": 7,
     "metadata": {},
     "output_type": "execute_result"
    }
   ],
   "source": [
    "#现在的问题就是要max 最小几何距离 对每一个xy满足 几何距离 >= 最小几何距离\n",
    "#写成函数就是 max min_geometric_marginn st. geometric_marginn(x,y) >= min_geometric_marginn\n",
    "\n",
    "#试一下用梯度下降的方法来找到这个解\n",
    "\n",
    "#合页损失函数\n",
    "def get_loss():\n",
    "    #loss分两部分,第1部分是w越大loss越大,第2部分是预测错误的loss\n",
    "    lam = 0.2  #平衡两部分loss的变量\n",
    "    l2_w = (w**2).sum()  #w越大loss越大\n",
    "\n",
    "    loss = 0\n",
    "    for i in range(N):\n",
    "        pred = y[i] * (w.dot(x[i]) + b)\n",
    "        pred = 1 - pred  #如果分类正确,那至少要正确到1以上,即使计算结果是0.9,也认为是错误\n",
    "        relu = pred if pred > 0 else 0  #本来正数是预测正确,上面因为用1减了,所以变号了,现在是负数才是预测正确\n",
    "        loss += relu\n",
    "    return loss + lam * l2_w\n",
    "\n",
    "\n",
    "get_loss()"
   ]
  },
  {
   "cell_type": "code",
   "execution_count": 8,
   "id": "hungarian-necessity",
   "metadata": {},
   "outputs": [
    {
     "data": {
      "text/plain": [
       "(array([-12.05341801, 184.95180199]), -5.684341886080801e-09)"
      ]
     },
     "execution_count": 8,
     "metadata": {},
     "output_type": "execute_result"
    }
   ],
   "source": [
    "#我发明的暴力求梯度的方法.\n",
    "def get_gradient():\n",
    "    global w\n",
    "    global b\n",
    "\n",
    "    #这个变量就是增量了\n",
    "    upsilon = 1e-5\n",
    "\n",
    "    #先算出给增量前的loss\n",
    "    loss = get_loss()\n",
    "\n",
    "    #求w梯度\n",
    "    grad_w = np.empty(M)\n",
    "    for i in range(M):\n",
    "        w[i] += upsilon\n",
    "        loss2 = get_loss()\n",
    "        w[i] -= upsilon\n",
    "        grad_w[i] = (loss2 - loss) / upsilon\n",
    "\n",
    "    #求b梯度\n",
    "    b += upsilon\n",
    "    loss2 = get_loss()\n",
    "    b -= upsilon\n",
    "    grad_b = (loss2 - loss) / upsilon\n",
    "\n",
    "    return grad_w, grad_b\n",
    "\n",
    "\n",
    "get_gradient()"
   ]
  },
  {
   "cell_type": "code",
   "execution_count": 9,
   "id": "compliant-specification",
   "metadata": {
    "scrolled": false
   },
   "outputs": [
    {
     "name": "stdout",
     "output_type": "stream",
     "text": [
      "0 152.0036068893805\n",
      "200 9.183026404654\n",
      "400 8.929522873248773\n",
      "600 8.74566584792982\n",
      "800 8.594796294245398\n",
      "1000 8.580817045414612\n",
      "1200 8.568907394232566\n",
      "1400 8.559163671955792\n"
     ]
    },
    {
     "data": {
      "image/png": "[encoded data removed]",
      "text/plain": [
       "<Figure size 432x288 with 1 Axes>"
      ]
     },
     "metadata": {
      "needs_background": "light"
     },
     "output_type": "display_data"
    }
   ],
   "source": [
    "for epoch in range(1500):\n",
    "    grad_w, grad_b = get_gradient()\n",
    "    w -= grad_w * 1e-3\n",
    "    b -= grad_b * 1e-3\n",
    "\n",
    "    if epoch % 200 == 0:\n",
    "        print(epoch, get_loss())\n",
    "\n",
    "draw()"
   ]
  }
 ],
 "metadata": {
  "kernelspec": {
   "display_name": "Python 3",
   "language": "python",
   "name": "python3"
  },
  "language_info": {
   "codemirror_mode": {
    "name": "ipython",
    "version": 3
   },
   "file_extension": ".py",
   "mimetype": "text/x-python",
   "name": "python",
   "nbconvert_exporter": "python",
   "pygments_lexer": "ipython3",
   "version": "3.6.10"
  }
 },
 "nbformat": 4,
 "nbformat_minor": 5
}
