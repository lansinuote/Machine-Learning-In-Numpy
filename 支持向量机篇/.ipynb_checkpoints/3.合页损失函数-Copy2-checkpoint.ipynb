{
 "cells": [
  {
   "cell_type": "code",
   "execution_count": 1,
   "id": "mounted-career",
   "metadata": {},
   "outputs": [
    {
     "data": {
      "text/plain": [
       "(array([[-0.96838565, -0.90569186,  0.34212957, -0.28760639, -1.05929159],\n",
       "        [-1.29329276, -1.90829615,  0.34212957, -0.28760639, -0.66126443],\n",
       "        [-0.48102498,  0.31923046,  0.34212957, -0.28760639,  0.43599101],\n",
       "        [ 0.00633569,  0.65053435,  0.34212957, -0.28760639,  0.58018937],\n",
       "        [ 2.28068547,  1.50120112, -0.69398406,  2.9859242 , -1.05319281]]),\n",
       " array([ 1,  1, -1, -1,  1]))"
      ]
     },
     "execution_count": 1,
     "metadata": {},
     "output_type": "execute_result"
    }
   ],
   "source": [
    "import numpy as np\n",
    "\n",
    "\n",
    "#加载数据\n",
    "def load_data(file_name):\n",
    "    #可分不可分都可以处理\n",
    "    with open(file_name) as fr:\n",
    "        lines = fr.readlines()\n",
    "\n",
    "    x = np.ones((len(lines), 5), dtype=float)\n",
    "    y = np.empty(len(lines), dtype=float)\n",
    "\n",
    "    for i in range(len(lines)):\n",
    "        line = lines[i].strip().split(',')\n",
    "        x[i] = line[:5]\n",
    "        y[i] = line[5]\n",
    "\n",
    "    y = y.astype(np.int)\n",
    "    y[y == 0] = -1\n",
    "\n",
    "    x -= x.mean(axis=0)\n",
    "    x /= x.std(axis=0)\n",
    "\n",
    "    return x, y\n",
    "\n",
    "\n",
    "x, y = load_data('features.csv')\n",
    "x[:5], y[:5]"
   ]
  },
  {
   "cell_type": "code",
   "execution_count": 2,
   "id": "closed-northeast",
   "metadata": {},
   "outputs": [],
   "source": [
    "#常量\n",
    "N, M = x.shape\n",
    "\n",
    "w = np.empty(M)\n",
    "w.fill(1 / M)\n",
    "b = 0.0"
   ]
  },
  {
   "cell_type": "code",
   "execution_count": 3,
   "id": "clear-locking",
   "metadata": {},
   "outputs": [
    {
     "data": {
      "text/plain": [
       "-0.5757691838088779"
      ]
     },
     "execution_count": 3,
     "metadata": {},
     "output_type": "execute_result"
    }
   ],
   "source": [
    "def predict(x):\n",
    "    return w.dot(x) + b\n",
    "\n",
    "\n",
    "predict(x[0])"
   ]
  },
  {
   "cell_type": "code",
   "execution_count": 4,
   "id": "neutral-submission",
   "metadata": {},
   "outputs": [
    {
     "data": {
      "text/plain": [
       "1016.9036562947388"
      ]
     },
     "execution_count": 4,
     "metadata": {},
     "output_type": "execute_result"
    }
   ],
   "source": [
    "#现在的问题就是要max 最小几何距离 对每一个xy满足 几何距离 >= 最小几何距离\n",
    "#写成函数就是 max min_geometric_marginn st. geometric_marginn(x,y) >= min_geometric_marginn\n",
    "\n",
    "#试一下用梯度下降的方法来找到这个解\n",
    "\n",
    "#合页损失函数\n",
    "def get_loss():\n",
    "    #loss分两部分,第1部分是w越大loss越大,第2部分是预测错误的loss\n",
    "    lam = 0.2  #平衡两部分loss的变量\n",
    "    l2_w = (w**2).sum()  #w越大loss越大\n",
    "\n",
    "    loss = 0\n",
    "    for i in range(N):\n",
    "        pred = y[i] * (w.dot(x[i]) + b)\n",
    "        pred = 1 - pred  #如果分类正确,那至少要正确到1以上,即使计算结果是0.9,也认为是错误\n",
    "        relu = pred if pred > 0 else 0  #本来正数是预测正确,上面因为用1减了,所以变号了,现在是负数才是预测正确\n",
    "        loss += relu\n",
    "    return loss + lam * l2_w\n",
    "\n",
    "\n",
    "get_loss()"
   ]
  },
  {
   "cell_type": "code",
   "execution_count": 5,
   "id": "hungarian-necessity",
   "metadata": {},
   "outputs": [
    {
     "data": {
      "text/plain": [
       "(array([-460.36406032, -420.69229776,  528.26247623,  -67.84050144,\n",
       "         665.35267489]),\n",
       " -7.9999999911706245)"
      ]
     },
     "execution_count": 5,
     "metadata": {},
     "output_type": "execute_result"
    }
   ],
   "source": [
    "#我发明的暴力求梯度的方法.\n",
    "def get_gradient():\n",
    "    global w\n",
    "    global b\n",
    "\n",
    "    #这个变量就是增量了\n",
    "    upsilon = 1e-5\n",
    "\n",
    "    #先算出给增量前的loss\n",
    "    loss = get_loss()\n",
    "\n",
    "    #求w梯度\n",
    "    grad_w = np.empty(M)\n",
    "    for i in range(M):\n",
    "        w[i] += upsilon\n",
    "        loss2 = get_loss()\n",
    "        w[i] -= upsilon\n",
    "        grad_w[i] = (loss2 - loss) / upsilon\n",
    "\n",
    "    #求b梯度\n",
    "    b += upsilon\n",
    "    loss2 = get_loss()\n",
    "    b -= upsilon\n",
    "    grad_b = (loss2 - loss) / upsilon\n",
    "\n",
    "    return grad_w, grad_b\n",
    "\n",
    "\n",
    "get_gradient()"
   ]
  },
  {
   "cell_type": "code",
   "execution_count": 6,
   "id": "compliant-specification",
   "metadata": {
    "scrolled": false
   },
   "outputs": [
    {
     "name": "stdout",
     "output_type": "stream",
     "text": [
      "0 415.8723941113253\n",
      "100 231.2302407539765\n",
      "200 230.39371165862832\n"
     ]
    }
   ],
   "source": [
    "for epoch in range(300):\n",
    "    grad_w, grad_b = get_gradient()\n",
    "    w -= grad_w * 1e-3\n",
    "    b -= grad_b * 1e-3\n",
    "\n",
    "    if epoch % 100 == 0:\n",
    "        print(epoch, get_loss())"
   ]
  },
  {
   "cell_type": "code",
   "execution_count": 7,
   "id": "bf713889",
   "metadata": {},
   "outputs": [
    {
     "data": {
      "text/plain": [
       "0.923"
      ]
     },
     "execution_count": 7,
     "metadata": {},
     "output_type": "execute_result"
    }
   ],
   "source": [
    "def test(x, y):\n",
    "    correct = 0\n",
    "    for xi, yi in zip(x, y):\n",
    "        pred = predict(xi)\n",
    "        pred = 1 if pred > 0 else -1\n",
    "        if pred == yi:\n",
    "            correct += 1\n",
    "    return correct / len(x)\n",
    "\n",
    "\n",
    "test(x, y)"
   ]
  },
  {
   "cell_type": "code",
   "execution_count": 8,
   "id": "c7649ad5",
   "metadata": {},
   "outputs": [
    {
     "data": {
      "text/plain": [
       "0.915505"
      ]
     },
     "execution_count": 8,
     "metadata": {},
     "output_type": "execute_result"
    }
   ],
   "source": [
    "x, y = load_data('features - 副本.csv')\n",
    "test(x, y)"
   ]
  }
 ],
 "metadata": {
  "kernelspec": {
   "display_name": "Python 3",
   "language": "python",
   "name": "python3"
  },
  "language_info": {
   "codemirror_mode": {
    "name": "ipython",
    "version": 3
   },
   "file_extension": ".py",
   "mimetype": "text/x-python",
   "name": "python",
   "nbconvert_exporter": "python",
   "pygments_lexer": "ipython3",
   "version": "3.6.10"
  }
 },
 "nbformat": 4,
 "nbformat_minor": 5
}
