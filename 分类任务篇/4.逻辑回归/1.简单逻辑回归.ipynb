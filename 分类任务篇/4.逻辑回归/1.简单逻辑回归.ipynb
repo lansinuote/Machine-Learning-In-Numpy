{
 "cells": [
  {
   "cell_type": "code",
   "execution_count": 1,
   "metadata": {},
   "outputs": [
    {
     "data": {
      "text/plain": [
       "(array([[-0.017612, 14.053064],\n",
       "        [-1.395634,  4.662541],\n",
       "        [-0.752157,  6.53862 ],\n",
       "        [-1.322371,  7.152853],\n",
       "        [ 0.423363, 11.054677],\n",
       "        [ 0.406704,  7.067335],\n",
       "        [ 0.667394, 12.741452],\n",
       "        [-2.46015 ,  6.866805],\n",
       "        [ 0.569411,  9.548755],\n",
       "        [-0.026632, 10.427743]]),\n",
       " array([0, 1, 0, 0, 0, 1, 0, 1, 0, 0]))"
      ]
     },
     "execution_count": 1,
     "metadata": {},
     "output_type": "execute_result"
    }
   ],
   "source": [
    "import numpy as np\n",
    "\n",
    "\n",
    "#加载数据\n",
    "def load_data():\n",
    "    with open('简单逻辑回归.txt') as fr:\n",
    "        lines = fr.readlines()\n",
    "\n",
    "    x = np.empty((len(lines), 2), dtype=float)\n",
    "    y = np.empty(len(lines), dtype=int)\n",
    "    for i in range(len(lines)):\n",
    "        line = lines[i].strip().split(\"\\t\")\n",
    "        x[i] = line[:2]\n",
    "        y[i] = line[2]\n",
    "\n",
    "    return x, y\n",
    "\n",
    "\n",
    "w = np.ones(2)\n",
    "b = 0\n",
    "\n",
    "x, y = load_data()\n",
    "x[:10], y[:10]"
   ]
  },
  {
   "cell_type": "code",
   "execution_count": 2,
   "metadata": {},
   "outputs": [
    {
     "data": {
      "image/png": "[encoded data removed]",
      "text/plain": [
       "<Figure size 432x288 with 1 Axes>"
      ]
     },
     "metadata": {
      "needs_background": "light"
     },
     "output_type": "display_data"
    }
   ],
   "source": [
    "import matplotlib.pyplot as plt\n",
    "\n",
    "\n",
    "#把线画出来,线就是wx + b = 0\n",
    "def draw():\n",
    "    X = np.arange(x[:, 0].min(), x[:, 0].max(), 1)\n",
    "    Y = np.empty([len(X)])\n",
    "    for i in range(len(X)):\n",
    "        Y[i] = (-w[0] * X[i] - b) / w[1]\n",
    "\n",
    "    plt.scatter(x[:, 0], x[:, 1], c=y)\n",
    "    plt.plot(X, Y)\n",
    "\n",
    "    plt.show()\n",
    "\n",
    "\n",
    "draw()"
   ]
  },
  {
   "cell_type": "code",
   "execution_count": 3,
   "metadata": {
    "scrolled": false
   },
   "outputs": [
    {
     "data": {
      "text/plain": [
       "array([0.9999992 , 0.96327591, 0.99694057, 0.99707194, 0.99998965,\n",
       "       0.99943269, 0.9999985 , 0.98795104, 0.99995966, 0.9999696 ,\n",
       "       0.99957829, 0.99999951, 0.98717984, 0.99933568, 0.99441681,\n",
       "       0.92561059, 0.99782298, 0.93428995, 0.56149115, 0.99885231,\n",
       "       0.99459987, 0.09526385, 0.99998636, 0.11654725, 0.63366843,\n",
       "       0.9999799 , 0.99976712, 0.005168  , 0.97895738, 0.99998389,\n",
       "       0.97347961, 0.99985691, 0.99999727, 0.02289101, 0.99786778,\n",
       "       0.99994559, 0.99994472, 0.99952565, 0.99997564, 0.9999599 ,\n",
       "       0.94540262, 0.99921369, 0.99993885, 0.84560655, 0.97081778,\n",
       "       0.99990961, 0.05469734, 0.99787402, 0.99997497, 0.99998973,\n",
       "       0.99986451, 0.99995323, 0.99952919, 0.99999952, 0.99855058,\n",
       "       0.99902832, 0.99996875, 0.9999255 , 0.9999761 , 0.98766973,\n",
       "       0.96364394, 0.92063199, 0.99988479, 0.99999725, 0.99999671,\n",
       "       0.09305923, 0.99987754, 0.99999751, 0.99999633, 0.9999638 ,\n",
       "       0.99998486, 0.29543474, 0.99999883, 0.93863125, 0.99996973,\n",
       "       0.99981357, 0.15638953, 0.97043554, 0.99915573, 0.9713646 ,\n",
       "       0.9895634 , 0.01394591, 0.99999447, 0.99998894, 0.64309344,\n",
       "       0.07117749, 0.95268415, 0.99999919, 0.99926947, 0.53451825,\n",
       "       0.34843896, 0.99999951, 0.9999519 , 0.74047292, 0.63198292,\n",
       "       0.96211756, 0.99998941, 0.11658659, 0.99997814, 0.99999971])"
      ]
     },
     "execution_count": 3,
     "metadata": {},
     "output_type": "execute_result"
    }
   ],
   "source": [
    "def model():\n",
    "\n",
    "    #计算模型\n",
    "    out = x.dot(w) + b\n",
    "\n",
    "    #激活函数,把数据压缩到0-1之间\n",
    "    out = 1 / (1 + np.exp(-out))\n",
    "\n",
    "    return out\n",
    "\n",
    "\n",
    "model()"
   ]
  },
  {
   "cell_type": "code",
   "execution_count": 4,
   "metadata": {},
   "outputs": [
    {
     "data": {
      "text/plain": [
       "array([-9.99999197e-01,  3.67240878e-02, -9.96940571e-01, -9.97071938e-01,\n",
       "       -9.99989645e-01,  5.67308977e-04, -9.99998498e-01,  1.20489575e-02,\n",
       "       -9.99959662e-01, -9.99969602e-01,  4.21711638e-04, -9.99999507e-01,\n",
       "        1.28201638e-02, -9.99335680e-01,  5.58318526e-03,  7.43894117e-02,\n",
       "        2.17702199e-03,  6.57100468e-02,  4.38508855e-01,  1.14768737e-03,\n",
       "        5.40013262e-03,  9.04736155e-01, -9.99986359e-01,  8.83452746e-01,\n",
       "        3.66331566e-01, -9.99979903e-01, -9.99767121e-01,  9.94831999e-01,\n",
       "        2.10426242e-02, -9.99983887e-01,  2.65203902e-02,  1.43088377e-04,\n",
       "       -9.99997273e-01,  9.77108991e-01,  2.13222445e-03, -9.99945588e-01,\n",
       "       -9.99944721e-01, -9.99525652e-01, -9.99975643e-01, -9.99959899e-01,\n",
       "        5.45973797e-02,  7.86306717e-04, -9.99938855e-01,  1.54393446e-01,\n",
       "        2.91822248e-02, -9.99909612e-01,  9.45302656e-01,  2.12598035e-03,\n",
       "       -9.99974971e-01, -9.99989730e-01, -9.99864510e-01, -9.99953232e-01,\n",
       "       -9.99529185e-01, -9.99999523e-01,  1.44941614e-03,  9.71681819e-04,\n",
       "       -9.99968751e-01,  7.45047626e-05, -9.99976095e-01,  1.23302718e-02,\n",
       "        3.63560588e-02,  7.93680092e-02, -9.99884785e-01, -9.99997250e-01,\n",
       "       -9.99996707e-01,  9.06940772e-01,  1.22463140e-04, -9.99997513e-01,\n",
       "       -9.99996331e-01, -9.99963801e-01, -9.99984864e-01,  7.04565261e-01,\n",
       "       -9.99998833e-01,  6.13687471e-02, -9.99969733e-01, -9.99813572e-01,\n",
       "        8.43610473e-01,  2.95644605e-02,  8.44267117e-04,  2.86354048e-02,\n",
       "       -9.89563400e-01,  9.86054091e-01, -9.99994469e-01,  1.10627487e-05,\n",
       "        3.56906565e-01,  9.28822507e-01,  4.73158539e-02, -9.99999192e-01,\n",
       "        7.30531068e-04,  4.65481746e-01,  6.51561036e-01, -9.99999505e-01,\n",
       "       -9.99951895e-01,  2.59527082e-01,  3.68017084e-01,  3.78824388e-02,\n",
       "       -9.99989406e-01,  8.83413408e-01, -9.99978135e-01, -9.99999711e-01])"
      ]
     },
     "execution_count": 4,
     "metadata": {},
     "output_type": "execute_result"
    }
   ],
   "source": [
    "#求误差,就是简单的求差\n",
    "def loss(pred):\n",
    "    return y - pred\n",
    "\n",
    "\n",
    "loss(model())"
   ]
  },
  {
   "cell_type": "code",
   "execution_count": 5,
   "metadata": {},
   "outputs": [
    {
     "data": {
      "text/plain": [
       "(array([ -19.32519789, -510.00958751]), -33.27040236798686)"
      ]
     },
     "execution_count": 5,
     "metadata": {},
     "output_type": "execute_result"
    }
   ],
   "source": [
    "#求梯度\n",
    "def gradient(loss):\n",
    "\n",
    "    #简单理解,就是x0*loss + x1*loss = gradient\n",
    "    #也就是说,loss决定了方向和步长,x的值决定了另一个方向和步长.\n",
    "    g_w = x.T.dot(loss)\n",
    "\n",
    "    #简单的求和就完事了\n",
    "    g_b = loss.sum()\n",
    "\n",
    "    return g_w, g_b\n",
    "\n",
    "\n",
    "gradient(loss(model()))"
   ]
  },
  {
   "cell_type": "code",
   "execution_count": 6,
   "metadata": {},
   "outputs": [
    {
     "data": {
      "text/plain": [
       "(array([ 1.12613296, -1.75590228]), 12.898080239716059)"
      ]
     },
     "execution_count": 6,
     "metadata": {},
     "output_type": "execute_result"
    }
   ],
   "source": [
    "#训练\n",
    "lr = 1e-2\n",
    "for i in range(600):\n",
    "    g_w, g_b = gradient(loss(model()))\n",
    "    w += g_w * lr\n",
    "    b += g_b * lr\n",
    "\n",
    "w, b"
   ]
  },
  {
   "cell_type": "code",
   "execution_count": 7,
   "metadata": {},
   "outputs": [
    {
     "data": {
      "image/png": "[encoded data removed]",
      "text/plain": [
       "<Figure size 432x288 with 1 Axes>"
      ]
     },
     "metadata": {
      "needs_background": "light"
     },
     "output_type": "display_data"
    }
   ],
   "source": [
    "#画图\n",
    "draw()"
   ]
  },
  {
   "cell_type": "code",
   "execution_count": 8,
   "metadata": {},
   "outputs": [
    {
     "data": {
      "text/plain": [
       "0.95"
      ]
     },
     "execution_count": 8,
     "metadata": {},
     "output_type": "execute_result"
    }
   ],
   "source": [
    "#预测\n",
    "correct = 0\n",
    "for xi, yi in zip(x, y):\n",
    "    #计算模型\n",
    "    pred = xi.dot(w) + b\n",
    "\n",
    "    #激活函数,把数据压缩到0-1之间\n",
    "    pred = 1 / (1 + np.exp(-pred))\n",
    "\n",
    "    #I函数\n",
    "    pred = 1 if pred > 0.5 else 0\n",
    "\n",
    "    if pred == yi:\n",
    "        correct += 1\n",
    "correct / len(x)"
   ]
  }
 ],
 "metadata": {
  "kernelspec": {
   "display_name": "Python 3",
   "language": "python",
   "name": "python3"
  },
  "language_info": {
   "codemirror_mode": {
    "name": "ipython",
    "version": 3
   },
   "file_extension": ".py",
   "mimetype": "text/x-python",
   "name": "python",
   "nbconvert_exporter": "python",
   "pygments_lexer": "ipython3",
   "version": "3.6.10"
  }
 },
 "nbformat": 4,
 "nbformat_minor": 4
}
